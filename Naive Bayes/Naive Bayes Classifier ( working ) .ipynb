{
 "cells": [
  {
   "cell_type": "code",
   "execution_count": 2,
   "id": "a386c8b1-cac1-4ce0-9f42-450dc58e92a8",
   "metadata": {},
   "outputs": [],
   "source": [
    "import numpy as np\n",
    "import pandas as pd"
   ]
  },
  {
   "cell_type": "code",
   "execution_count": 5,
   "id": "7938a42f-9200-4f76-8f04-31c7123c7d6f",
   "metadata": {},
   "outputs": [],
   "source": [
    "data = pd.read_csv(\"play_tennis.csv\")\n",
    "data.drop(columns=['day'],inplace=True)"
   ]
  },
  {
   "cell_type": "code",
   "execution_count": 6,
   "id": "c2f46df9-71f9-4083-9ec7-86b6226628f9",
   "metadata": {},
   "outputs": [
    {
     "data": {
      "text/html": [
       "<div>\n",
       "<style scoped>\n",
       "    .dataframe tbody tr th:only-of-type {\n",
       "        vertical-align: middle;\n",
       "    }\n",
       "\n",
       "    .dataframe tbody tr th {\n",
       "        vertical-align: top;\n",
       "    }\n",
       "\n",
       "    .dataframe thead th {\n",
       "        text-align: right;\n",
       "    }\n",
       "</style>\n",
       "<table border=\"1\" class=\"dataframe\">\n",
       "  <thead>\n",
       "    <tr style=\"text-align: right;\">\n",
       "      <th></th>\n",
       "      <th>outlook</th>\n",
       "      <th>temp</th>\n",
       "      <th>humidity</th>\n",
       "      <th>wind</th>\n",
       "      <th>play</th>\n",
       "    </tr>\n",
       "  </thead>\n",
       "  <tbody>\n",
       "    <tr>\n",
       "      <th>0</th>\n",
       "      <td>Sunny</td>\n",
       "      <td>Hot</td>\n",
       "      <td>High</td>\n",
       "      <td>Weak</td>\n",
       "      <td>No</td>\n",
       "    </tr>\n",
       "    <tr>\n",
       "      <th>1</th>\n",
       "      <td>Sunny</td>\n",
       "      <td>Hot</td>\n",
       "      <td>High</td>\n",
       "      <td>Strong</td>\n",
       "      <td>No</td>\n",
       "    </tr>\n",
       "    <tr>\n",
       "      <th>2</th>\n",
       "      <td>Overcast</td>\n",
       "      <td>Hot</td>\n",
       "      <td>High</td>\n",
       "      <td>Weak</td>\n",
       "      <td>Yes</td>\n",
       "    </tr>\n",
       "    <tr>\n",
       "      <th>3</th>\n",
       "      <td>Rain</td>\n",
       "      <td>Mild</td>\n",
       "      <td>High</td>\n",
       "      <td>Weak</td>\n",
       "      <td>Yes</td>\n",
       "    </tr>\n",
       "    <tr>\n",
       "      <th>4</th>\n",
       "      <td>Rain</td>\n",
       "      <td>Cool</td>\n",
       "      <td>Normal</td>\n",
       "      <td>Weak</td>\n",
       "      <td>Yes</td>\n",
       "    </tr>\n",
       "    <tr>\n",
       "      <th>5</th>\n",
       "      <td>Rain</td>\n",
       "      <td>Cool</td>\n",
       "      <td>Normal</td>\n",
       "      <td>Strong</td>\n",
       "      <td>No</td>\n",
       "    </tr>\n",
       "    <tr>\n",
       "      <th>6</th>\n",
       "      <td>Overcast</td>\n",
       "      <td>Cool</td>\n",
       "      <td>Normal</td>\n",
       "      <td>Strong</td>\n",
       "      <td>Yes</td>\n",
       "    </tr>\n",
       "    <tr>\n",
       "      <th>7</th>\n",
       "      <td>Sunny</td>\n",
       "      <td>Mild</td>\n",
       "      <td>High</td>\n",
       "      <td>Weak</td>\n",
       "      <td>No</td>\n",
       "    </tr>\n",
       "    <tr>\n",
       "      <th>8</th>\n",
       "      <td>Sunny</td>\n",
       "      <td>Cool</td>\n",
       "      <td>Normal</td>\n",
       "      <td>Weak</td>\n",
       "      <td>Yes</td>\n",
       "    </tr>\n",
       "    <tr>\n",
       "      <th>9</th>\n",
       "      <td>Rain</td>\n",
       "      <td>Mild</td>\n",
       "      <td>Normal</td>\n",
       "      <td>Weak</td>\n",
       "      <td>Yes</td>\n",
       "    </tr>\n",
       "    <tr>\n",
       "      <th>10</th>\n",
       "      <td>Sunny</td>\n",
       "      <td>Mild</td>\n",
       "      <td>Normal</td>\n",
       "      <td>Strong</td>\n",
       "      <td>Yes</td>\n",
       "    </tr>\n",
       "    <tr>\n",
       "      <th>11</th>\n",
       "      <td>Overcast</td>\n",
       "      <td>Mild</td>\n",
       "      <td>High</td>\n",
       "      <td>Strong</td>\n",
       "      <td>Yes</td>\n",
       "    </tr>\n",
       "    <tr>\n",
       "      <th>12</th>\n",
       "      <td>Overcast</td>\n",
       "      <td>Hot</td>\n",
       "      <td>Normal</td>\n",
       "      <td>Weak</td>\n",
       "      <td>Yes</td>\n",
       "    </tr>\n",
       "    <tr>\n",
       "      <th>13</th>\n",
       "      <td>Rain</td>\n",
       "      <td>Mild</td>\n",
       "      <td>High</td>\n",
       "      <td>Strong</td>\n",
       "      <td>No</td>\n",
       "    </tr>\n",
       "  </tbody>\n",
       "</table>\n",
       "</div>"
      ],
      "text/plain": [
       "     outlook  temp humidity    wind play\n",
       "0      Sunny   Hot     High    Weak   No\n",
       "1      Sunny   Hot     High  Strong   No\n",
       "2   Overcast   Hot     High    Weak  Yes\n",
       "3       Rain  Mild     High    Weak  Yes\n",
       "4       Rain  Cool   Normal    Weak  Yes\n",
       "5       Rain  Cool   Normal  Strong   No\n",
       "6   Overcast  Cool   Normal  Strong  Yes\n",
       "7      Sunny  Mild     High    Weak   No\n",
       "8      Sunny  Cool   Normal    Weak  Yes\n",
       "9       Rain  Mild   Normal    Weak  Yes\n",
       "10     Sunny  Mild   Normal  Strong  Yes\n",
       "11  Overcast  Mild     High  Strong  Yes\n",
       "12  Overcast   Hot   Normal    Weak  Yes\n",
       "13      Rain  Mild     High  Strong   No"
      ]
     },
     "execution_count": 6,
     "metadata": {},
     "output_type": "execute_result"
    }
   ],
   "source": [
    "data"
   ]
  },
  {
   "cell_type": "code",
   "execution_count": 7,
   "id": "3f0fe9a8-470c-4e53-97cb-1a880b33a181",
   "metadata": {},
   "outputs": [],
   "source": [
    "# problem 1\n",
    "\n",
    "# outlook-Sunny, Temp-hot, Humidity-High, wind-weak\n",
    "# Play or NO play"
   ]
  },
  {
   "cell_type": "code",
   "execution_count": 10,
   "id": "6b4bbc92-c526-43f9-afa1-dddfb759b88e",
   "metadata": {},
   "outputs": [],
   "source": [
    "# solution\n",
    "\n",
    "# P(Yes | Sunny, Hot, High, Weak) = (Sunny | Yes) * P(Hot | Yes) * P(High | Yes) * P(weak | Yes) * P(Weak | Yes)\n",
    "\n",
    "# P(No | Sunny, Hot, High, Weak) = (Sunny | No) * P(Hot | No) * P(High | No) * P(weak | No) * P(Weak | No)\n",
    "\n",
    "# compare and decide using the Maximum a posteriori rule\n"
   ]
  },
  {
   "cell_type": "code",
   "execution_count": 11,
   "id": "8d9c49b2-0813-4b51-aa53-1181330fc477",
   "metadata": {},
   "outputs": [],
   "source": [
    "# Problem 2\n",
    "\n",
    "# outlook-Overcast, Temp-Cold, Humidity-low, wind-weak\n",
    "# Play or NO play"
   ]
  },
  {
   "cell_type": "code",
   "execution_count": 12,
   "id": "dc145366-26db-4a8b-b23d-3060ccdb153c",
   "metadata": {},
   "outputs": [],
   "source": [
    "# solution\n",
    "\n",
    "# P(Yes | Overcast, Cold, Low, Weak) = (Overcast | Yes) * P(Cold | Yes) * P(Low, | Yes) * P(weak | Yes) * P(Weak | Yes)\n",
    "\n",
    "# P(No | Overcast, Cold, Low, Weak) = (Overcast | No) * P(Cold | No) * P(Low | No) * P(weak | No) * P(Weak | No)\n",
    "\n",
    "# compare and decide using the Maximum a posteriori rule\n"
   ]
  },
  {
   "cell_type": "code",
   "execution_count": 13,
   "id": "f00c41b0-ce59-4271-b05f-8ce734b55034",
   "metadata": {},
   "outputs": [],
   "source": [
    "# 1. Training stage\n",
    "    # Lookup Table (dictionary)\n",
    "\n",
    "# 2. Testing stage\n"
   ]
  },
  {
   "cell_type": "code",
   "execution_count": 14,
   "id": "b3f3f53f-51c6-45c2-ae96-0e39b08b30fb",
   "metadata": {},
   "outputs": [],
   "source": [
    "# P(Yes)\n",
    "# P(NO)"
   ]
  },
  {
   "cell_type": "code",
   "execution_count": 15,
   "id": "9c4ef7c3-722c-46e8-8e74-3c5e9d6f8f53",
   "metadata": {},
   "outputs": [
    {
     "data": {
      "text/plain": [
       "play\n",
       "Yes    9\n",
       "No     5\n",
       "Name: count, dtype: int64"
      ]
     },
     "execution_count": 15,
     "metadata": {},
     "output_type": "execute_result"
    }
   ],
   "source": [
    "data['play'].value_counts()"
   ]
  },
  {
   "cell_type": "code",
   "execution_count": 16,
   "id": "1cf806d8-49c0-4759-b48d-9b7e00fd6894",
   "metadata": {},
   "outputs": [],
   "source": [
    "py = 9/14\n",
    "pn = 5/14"
   ]
  },
  {
   "cell_type": "code",
   "execution_count": 17,
   "id": "1eb60c8e-cc65-4ef1-90ed-57e6fc818603",
   "metadata": {},
   "outputs": [
    {
     "name": "stdout",
     "output_type": "stream",
     "text": [
      "0.6428571428571429\n",
      "0.35714285714285715\n"
     ]
    }
   ],
   "source": [
    "print(py)\n",
    "print(pn)"
   ]
  },
  {
   "cell_type": "code",
   "execution_count": null,
   "id": "85425225-25be-4adb-90a3-6ac1c9f8d61c",
   "metadata": {},
   "outputs": [],
   "source": []
  },
  {
   "cell_type": "code",
   "execution_count": 19,
   "id": "0e7a6490-c5cb-4b16-aa04-599a8ad837b9",
   "metadata": {},
   "outputs": [
    {
     "data": {
      "text/html": [
       "<div>\n",
       "<style scoped>\n",
       "    .dataframe tbody tr th:only-of-type {\n",
       "        vertical-align: middle;\n",
       "    }\n",
       "\n",
       "    .dataframe tbody tr th {\n",
       "        vertical-align: top;\n",
       "    }\n",
       "\n",
       "    .dataframe thead th {\n",
       "        text-align: right;\n",
       "    }\n",
       "</style>\n",
       "<table border=\"1\" class=\"dataframe\">\n",
       "  <thead>\n",
       "    <tr style=\"text-align: right;\">\n",
       "      <th>play</th>\n",
       "      <th>No</th>\n",
       "      <th>Yes</th>\n",
       "    </tr>\n",
       "    <tr>\n",
       "      <th>outlook</th>\n",
       "      <th></th>\n",
       "      <th></th>\n",
       "    </tr>\n",
       "  </thead>\n",
       "  <tbody>\n",
       "    <tr>\n",
       "      <th>Overcast</th>\n",
       "      <td>0</td>\n",
       "      <td>4</td>\n",
       "    </tr>\n",
       "    <tr>\n",
       "      <th>Rain</th>\n",
       "      <td>2</td>\n",
       "      <td>3</td>\n",
       "    </tr>\n",
       "    <tr>\n",
       "      <th>Sunny</th>\n",
       "      <td>3</td>\n",
       "      <td>2</td>\n",
       "    </tr>\n",
       "  </tbody>\n",
       "</table>\n",
       "</div>"
      ],
      "text/plain": [
       "play      No  Yes\n",
       "outlook          \n",
       "Overcast   0    4\n",
       "Rain       2    3\n",
       "Sunny      3    2"
      ]
     },
     "execution_count": 19,
     "metadata": {},
     "output_type": "execute_result"
    }
   ],
   "source": [
    "# Outlook column\n",
    "\n",
    "pd.crosstab(data['outlook'], data['play'])"
   ]
  },
  {
   "cell_type": "code",
   "execution_count": 21,
   "id": "6022224c-6d47-469a-a23a-c742c9de11f7",
   "metadata": {},
   "outputs": [],
   "source": [
    "\n",
    "Pon = 0   # probability overcast n\n",
    "Prn = 2/5  # probability rain n\n",
    "Psn = 3/5   # probability sunny n\n",
    "\n",
    "\n",
    "Poy = 4/9\n",
    "Pry = 2/9\n",
    "Psy = 3/9\n"
   ]
  },
  {
   "cell_type": "code",
   "execution_count": 22,
   "id": "bf1a3878-dc0f-4d96-87e9-9c7867ce082e",
   "metadata": {},
   "outputs": [
    {
     "data": {
      "text/html": [
       "<div>\n",
       "<style scoped>\n",
       "    .dataframe tbody tr th:only-of-type {\n",
       "        vertical-align: middle;\n",
       "    }\n",
       "\n",
       "    .dataframe tbody tr th {\n",
       "        vertical-align: top;\n",
       "    }\n",
       "\n",
       "    .dataframe thead th {\n",
       "        text-align: right;\n",
       "    }\n",
       "</style>\n",
       "<table border=\"1\" class=\"dataframe\">\n",
       "  <thead>\n",
       "    <tr style=\"text-align: right;\">\n",
       "      <th>play</th>\n",
       "      <th>No</th>\n",
       "      <th>Yes</th>\n",
       "    </tr>\n",
       "    <tr>\n",
       "      <th>temp</th>\n",
       "      <th></th>\n",
       "      <th></th>\n",
       "    </tr>\n",
       "  </thead>\n",
       "  <tbody>\n",
       "    <tr>\n",
       "      <th>Cool</th>\n",
       "      <td>1</td>\n",
       "      <td>3</td>\n",
       "    </tr>\n",
       "    <tr>\n",
       "      <th>Hot</th>\n",
       "      <td>2</td>\n",
       "      <td>2</td>\n",
       "    </tr>\n",
       "    <tr>\n",
       "      <th>Mild</th>\n",
       "      <td>2</td>\n",
       "      <td>4</td>\n",
       "    </tr>\n",
       "  </tbody>\n",
       "</table>\n",
       "</div>"
      ],
      "text/plain": [
       "play  No  Yes\n",
       "temp         \n",
       "Cool   1    3\n",
       "Hot    2    2\n",
       "Mild   2    4"
      ]
     },
     "execution_count": 22,
     "metadata": {},
     "output_type": "execute_result"
    }
   ],
   "source": [
    "# temp\n",
    "\n",
    "pd.crosstab(data['temp'], data['play'])"
   ]
  },
  {
   "cell_type": "code",
   "execution_count": 23,
   "id": "40dc968d-de5c-4fdf-9dcd-4fa3ca874dcc",
   "metadata": {},
   "outputs": [],
   "source": [
    "PCoolNo = 1/5\n",
    "PHotNO = 2/5\n",
    "PMildNO = 2/5\n",
    "\n",
    "PCoolYes = 3/9\n",
    "PHotYes = 2/9\n",
    "PMildYes = 4/9\n"
   ]
  },
  {
   "cell_type": "code",
   "execution_count": 24,
   "id": "834ce189-4c36-454d-95a1-4341fb609d02",
   "metadata": {},
   "outputs": [
    {
     "data": {
      "text/html": [
       "<div>\n",
       "<style scoped>\n",
       "    .dataframe tbody tr th:only-of-type {\n",
       "        vertical-align: middle;\n",
       "    }\n",
       "\n",
       "    .dataframe tbody tr th {\n",
       "        vertical-align: top;\n",
       "    }\n",
       "\n",
       "    .dataframe thead th {\n",
       "        text-align: right;\n",
       "    }\n",
       "</style>\n",
       "<table border=\"1\" class=\"dataframe\">\n",
       "  <thead>\n",
       "    <tr style=\"text-align: right;\">\n",
       "      <th>play</th>\n",
       "      <th>No</th>\n",
       "      <th>Yes</th>\n",
       "    </tr>\n",
       "    <tr>\n",
       "      <th>humidity</th>\n",
       "      <th></th>\n",
       "      <th></th>\n",
       "    </tr>\n",
       "  </thead>\n",
       "  <tbody>\n",
       "    <tr>\n",
       "      <th>High</th>\n",
       "      <td>4</td>\n",
       "      <td>3</td>\n",
       "    </tr>\n",
       "    <tr>\n",
       "      <th>Normal</th>\n",
       "      <td>1</td>\n",
       "      <td>6</td>\n",
       "    </tr>\n",
       "  </tbody>\n",
       "</table>\n",
       "</div>"
      ],
      "text/plain": [
       "play      No  Yes\n",
       "humidity         \n",
       "High       4    3\n",
       "Normal     1    6"
      ]
     },
     "execution_count": 24,
     "metadata": {},
     "output_type": "execute_result"
    }
   ],
   "source": [
    "# Humidity \n",
    "\n",
    "pd.crosstab(data['humidity'], data['play'])"
   ]
  },
  {
   "cell_type": "code",
   "execution_count": 26,
   "id": "c2b325c2-5ebd-4706-81b5-7ee9c0cf37e8",
   "metadata": {},
   "outputs": [],
   "source": [
    "PHighNo = 4/5\n",
    "PNormalNo = 1/5\n",
    "\n",
    "PHighYes = 3/9\n",
    "PNormalYes = 6/9"
   ]
  },
  {
   "cell_type": "code",
   "execution_count": 27,
   "id": "e06cdaa3-b8cc-433e-9a8d-73fcfd21f439",
   "metadata": {},
   "outputs": [
    {
     "data": {
      "text/html": [
       "<div>\n",
       "<style scoped>\n",
       "    .dataframe tbody tr th:only-of-type {\n",
       "        vertical-align: middle;\n",
       "    }\n",
       "\n",
       "    .dataframe tbody tr th {\n",
       "        vertical-align: top;\n",
       "    }\n",
       "\n",
       "    .dataframe thead th {\n",
       "        text-align: right;\n",
       "    }\n",
       "</style>\n",
       "<table border=\"1\" class=\"dataframe\">\n",
       "  <thead>\n",
       "    <tr style=\"text-align: right;\">\n",
       "      <th>play</th>\n",
       "      <th>No</th>\n",
       "      <th>Yes</th>\n",
       "    </tr>\n",
       "    <tr>\n",
       "      <th>outlook</th>\n",
       "      <th></th>\n",
       "      <th></th>\n",
       "    </tr>\n",
       "  </thead>\n",
       "  <tbody>\n",
       "    <tr>\n",
       "      <th>Overcast</th>\n",
       "      <td>0</td>\n",
       "      <td>4</td>\n",
       "    </tr>\n",
       "    <tr>\n",
       "      <th>Rain</th>\n",
       "      <td>2</td>\n",
       "      <td>3</td>\n",
       "    </tr>\n",
       "    <tr>\n",
       "      <th>Sunny</th>\n",
       "      <td>3</td>\n",
       "      <td>2</td>\n",
       "    </tr>\n",
       "  </tbody>\n",
       "</table>\n",
       "</div>"
      ],
      "text/plain": [
       "play      No  Yes\n",
       "outlook          \n",
       "Overcast   0    4\n",
       "Rain       2    3\n",
       "Sunny      3    2"
      ]
     },
     "execution_count": 27,
     "metadata": {},
     "output_type": "execute_result"
    }
   ],
   "source": [
    "# wind\n",
    "\n",
    "pd.crosstab(data['outlook'], data['play'])"
   ]
  },
  {
   "cell_type": "code",
   "execution_count": 28,
   "id": "470c92f7-84dc-40f8-8a0c-b55c626d1984",
   "metadata": {},
   "outputs": [],
   "source": [
    "PStrongNo = 3/5\n",
    "PWeakNo = 2/5\n",
    "\n",
    "PStrongYes = 3/9\n",
    "PWeakYes = 6/9\n"
   ]
  },
  {
   "cell_type": "code",
   "execution_count": null,
   "id": "8250bf0e-7111-4d7e-8cfb-b4142b81f250",
   "metadata": {},
   "outputs": [],
   "source": []
  },
  {
   "cell_type": "code",
   "execution_count": 30,
   "id": "4c8a103e-c597-4b89-96f4-f587f395d0ba",
   "metadata": {},
   "outputs": [
    {
     "name": "stdout",
     "output_type": "stream",
     "text": [
      "0.010582010582010581\n"
     ]
    }
   ],
   "source": [
    "# outlook-Sunny, Temp-hot, Humidity-High, wind-weak\n",
    "\n",
    "Pyes = py * Psy * PHotYes * PHighYes * PWeakYes\n",
    "print(Pyes)"
   ]
  },
  {
   "cell_type": "code",
   "execution_count": 33,
   "id": "5b0cbcfb-6f28-409f-9a59-0afd6400bce0",
   "metadata": {},
   "outputs": [
    {
     "name": "stdout",
     "output_type": "stream",
     "text": [
      "0.02742857142857143\n"
     ]
    }
   ],
   "source": [
    "PNo = pn * Psn * PHotNO * PHighNo * PWeakNo\n",
    "print(PNo)"
   ]
  },
  {
   "cell_type": "code",
   "execution_count": null,
   "id": "106d1e04-6f68-4660-91b2-792f38491f47",
   "metadata": {},
   "outputs": [],
   "source": []
  }
 ],
 "metadata": {
  "kernelspec": {
   "display_name": "Python 3 (ipykernel)",
   "language": "python",
   "name": "python3"
  },
  "language_info": {
   "codemirror_mode": {
    "name": "ipython",
    "version": 3
   },
   "file_extension": ".py",
   "mimetype": "text/x-python",
   "name": "python",
   "nbconvert_exporter": "python",
   "pygments_lexer": "ipython3",
   "version": "3.11.5"
  }
 },
 "nbformat": 4,
 "nbformat_minor": 5
}
