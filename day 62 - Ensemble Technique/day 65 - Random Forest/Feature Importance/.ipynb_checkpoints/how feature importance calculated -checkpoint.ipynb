{
 "cells": [
  {
   "cell_type": "code",
   "execution_count": 1,
   "id": "2e833cf8-9819-4da3-831d-f7c9d2b7ea11",
   "metadata": {},
   "outputs": [],
   "source": [
    "from sklearn.datasets import make_classification\n",
    "from sklearn.tree import DecisionTreeClassifier"
   ]
  },
  {
   "cell_type": "code",
   "execution_count": null,
   "id": "87da42e7-2d1f-47e0-903f-04267844e9f5",
   "metadata": {},
   "outputs": [],
   "source": [
    "X, y = make_classification(n_samples=5, \n",
    "                          n_classes=2,\n",
    "                          n_features=2,\n",
    "                          n)"
   ]
  }
 ],
 "metadata": {
  "kernelspec": {
   "display_name": "Python 3 (ipykernel)",
   "language": "python",
   "name": "python3"
  },
  "language_info": {
   "codemirror_mode": {
    "name": "ipython",
    "version": 3
   },
   "file_extension": ".py",
   "mimetype": "text/x-python",
   "name": "python",
   "nbconvert_exporter": "python",
   "pygments_lexer": "ipython3",
   "version": "3.11.8"
  }
 },
 "nbformat": 4,
 "nbformat_minor": 5
}
