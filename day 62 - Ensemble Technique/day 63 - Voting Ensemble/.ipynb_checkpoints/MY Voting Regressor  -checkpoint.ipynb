{
 "cells": [
  {
   "cell_type": "code",
   "execution_count": 1,
   "id": "5dd1658c-540e-42a8-8c0d-5a4d3ec9e5c5",
   "metadata": {},
   "outputs": [],
   "source": [
    "from sklearn.datasets import load_digits\n",
    "import numpy as np"
   ]
  },
  {
   "cell_type": "code",
   "execution_count": 2,
   "id": "5766c52a-d872-4a10-adc8-2a6a4d69bcaa",
   "metadata": {},
   "outputs": [],
   "source": [
    "X,y = load_digits(return_X_y=True)"
   ]
  },
  {
   "cell_type": "code",
   "execution_count": 3,
   "id": "e393416b-4db7-4323-9571-610bad75d46e",
   "metadata": {},
   "outputs": [
    {
     "data": {
      "text/plain": [
       "(1797, 64)"
      ]
     },
     "execution_count": 3,
     "metadata": {},
     "output_type": "execute_result"
    }
   ],
   "source": [
    "X.shape"
   ]
  },
  {
   "cell_type": "code",
   "execution_count": 4,
   "id": "c13c4a9e-c4e1-4d3e-bdcd-c3833ee430ef",
   "metadata": {},
   "outputs": [
    {
     "data": {
      "text/plain": [
       "(1797,)"
      ]
     },
     "execution_count": 4,
     "metadata": {},
     "output_type": "execute_result"
    }
   ],
   "source": [
    "y.shape"
   ]
  },
  {
   "cell_type": "code",
   "execution_count": 5,
   "id": "3195ffc0-2703-48a4-bb83-7276ed211f22",
   "metadata": {},
   "outputs": [
    {
     "data": {
      "text/plain": [
       "array([[ 0.,  0.,  5., ...,  0.,  0.,  0.],\n",
       "       [ 0.,  0.,  0., ..., 10.,  0.,  0.],\n",
       "       [ 0.,  0.,  0., ..., 16.,  9.,  0.],\n",
       "       ...,\n",
       "       [ 0.,  0.,  1., ...,  6.,  0.,  0.],\n",
       "       [ 0.,  0.,  2., ..., 12.,  0.,  0.],\n",
       "       [ 0.,  0., 10., ..., 12.,  1.,  0.]])"
      ]
     },
     "execution_count": 5,
     "metadata": {},
     "output_type": "execute_result"
    }
   ],
   "source": [
    "X"
   ]
  },
  {
   "cell_type": "code",
   "execution_count": 6,
   "id": "b0d2a4d1-ce55-44d0-9cd4-e0c2e3c6f2e6",
   "metadata": {},
   "outputs": [],
   "source": [
    "from sklearn.linear_model import LinearRegression\n",
    "from sklearn.tree import DecisionTreeRegressor\n",
    "from sklearn.svm import SVR\n",
    "from sklearn.model_selection import cross_val_score"
   ]
  },
  {
   "cell_type": "code",
   "execution_count": 7,
   "id": "ee03ab1f-c99e-46c4-aceb-e9520a4ddafd",
   "metadata": {},
   "outputs": [],
   "source": [
    "lr = LinearRegression()\n",
    "dt = DecisionTreeRegressor()\n",
    "svr = SVR()"
   ]
  },
  {
   "cell_type": "code",
   "execution_count": 8,
   "id": "02c4dfb1-a8c4-4d86-842a-e5c3274b63fd",
   "metadata": {},
   "outputs": [],
   "source": [
    "estimators = [('lr',lr),('dt',dt),('svr',svr)]"
   ]
  },
  {
   "cell_type": "code",
   "execution_count": 9,
   "id": "218b6769-1ea7-4601-b433-3a2e9f72f3a4",
   "metadata": {},
   "outputs": [
    {
     "name": "stdout",
     "output_type": "stream",
     "text": [
      "lr 0.53\n",
      "dt 0.6\n",
      "svr 0.82\n"
     ]
    }
   ],
   "source": [
    "for estimator in estimators:\n",
    "    scores = cross_val_score(estimator[1], X,y, scoring='r2', cv=10)\n",
    "    print(estimator[0], np.round(np.mean(scores),2))"
   ]
  },
  {
   "cell_type": "code",
   "execution_count": 10,
   "id": "8892b8be-843e-4891-be19-5e02d2f6f8aa",
   "metadata": {},
   "outputs": [],
   "source": [
    "from sklearn.ensemble import VotingRegressor"
   ]
  },
  {
   "cell_type": "code",
   "execution_count": 11,
   "id": "450b3b7f-7867-4d02-9b43-b9ddb6731239",
   "metadata": {},
   "outputs": [
    {
     "name": "stdout",
     "output_type": "stream",
     "text": [
      "Voting Regressor :  0.77\n"
     ]
    }
   ],
   "source": [
    "vr = VotingRegressor(estimators)\n",
    "scores = cross_val_score(vr, X,y, scoring='r2', cv=10)\n",
    "print(\"Voting Regressor : \",np.round(np.mean(scores),2))"
   ]
  },
  {
   "cell_type": "code",
   "execution_count": 12,
   "id": "5c77fdab-5501-415d-becd-7ac6d8b4245a",
   "metadata": {
    "scrolled": true
   },
   "outputs": [
    {
     "name": "stdout",
     "output_type": "stream",
     "text": [
      "for i=1, j=1, k=1  0.78\n",
      "for i=1, j=1, k=2  0.8\n",
      "for i=1, j=1, k=3  0.81\n",
      "for i=1, j=2, k=1  0.77\n",
      "for i=1, j=2, k=2  0.79\n",
      "for i=1, j=2, k=3  0.81\n",
      "for i=1, j=3, k=1  0.76\n",
      "for i=1, j=3, k=2  0.79\n",
      "for i=1, j=3, k=3  0.8\n",
      "for i=2, j=1, k=1  0.74\n",
      "for i=2, j=1, k=2  0.77\n",
      "for i=2, j=1, k=3  0.78\n",
      "for i=2, j=2, k=1  0.75\n",
      "for i=2, j=2, k=2  0.79\n",
      "for i=2, j=2, k=3  0.79\n",
      "for i=2, j=3, k=1  0.76\n",
      "for i=2, j=3, k=2  0.78\n",
      "for i=2, j=3, k=3  0.79\n",
      "for i=3, j=1, k=1  0.71\n",
      "for i=3, j=1, k=2  0.74\n",
      "for i=3, j=1, k=3  0.76\n",
      "for i=3, j=2, k=1  0.74\n",
      "for i=3, j=2, k=2  0.76\n",
      "for i=3, j=2, k=3  0.77\n",
      "for i=3, j=3, k=1  0.75\n",
      "for i=3, j=3, k=2  0.77\n",
      "for i=3, j=3, k=3  0.78\n"
     ]
    }
   ],
   "source": [
    "for i in range(1,4):\n",
    "    for j in range(1,4):\n",
    "        for k in range(1,4):\n",
    "            vr = VotingRegressor(estimators, weights=[i,j,k])\n",
    "            scores = cross_val_score(vr, X, y, scoring='r2', cv=10)\n",
    "            print(\"for i={}, j={}, k={} \".format(i,j,k), np.round(np.mean(scores),2))"
   ]
  },
  {
   "cell_type": "code",
   "execution_count": 13,
   "id": "6841bfe5-4b76-474c-86ed-ee6477183ee3",
   "metadata": {},
   "outputs": [],
   "source": [
    "# using the same algotherim\n",
    "\n",
    "dt1 = DecisionTreeRegressor(max_depth=1)\n",
    "dt2 = DecisionTreeRegressor(max_depth=2)\n",
    "dt3 = DecisionTreeRegressor(max_depth=3)\n",
    "dt4 = DecisionTreeRegressor(max_depth=4)\n",
    "dt5 = DecisionTreeRegressor(max_depth=5)"
   ]
  },
  {
   "cell_type": "code",
   "execution_count": 14,
   "id": "a16275d0-6c0b-4206-b67c-d4f2a01a3324",
   "metadata": {},
   "outputs": [],
   "source": [
    "estimators = [('dt1',dt1),('dt2',dt2),('dt3',dt3),('dt4',dt4),('dt5',dt5)]"
   ]
  },
  {
   "cell_type": "code",
   "execution_count": 15,
   "id": "b9f7ece2-240d-4ed0-8332-ac03c7047e0e",
   "metadata": {},
   "outputs": [
    {
     "name": "stdout",
     "output_type": "stream",
     "text": [
      "dt1 0.11\n",
      "dt2 0.24\n",
      "dt3 0.42\n",
      "dt4 0.5\n",
      "dt5 0.54\n"
     ]
    }
   ],
   "source": [
    "for estimator in estimators:\n",
    "    scores = cross_val_score(estimator[1], X, y, scoring='r2', cv=10)\n",
    "    print(estimator[0], np.round(np.mean(scores),2))"
   ]
  },
  {
   "cell_type": "code",
   "execution_count": 16,
   "id": "834689ce-856c-44a7-9996-ffc7601ad812",
   "metadata": {},
   "outputs": [
    {
     "name": "stdout",
     "output_type": "stream",
     "text": [
      "Voting Regressor :  0.48\n"
     ]
    }
   ],
   "source": [
    "vr = VotingRegressor(estimators)\n",
    "scores = cross_val_score(vr, X, y, scoring='r2', cv=10)\n",
    "print(\"Voting Regressor : \", np.round(np.mean(scores),2))"
   ]
  },
  {
   "cell_type": "code",
   "execution_count": null,
   "id": "0edee07b-8270-4df4-aec7-95b31cb4b2ee",
   "metadata": {},
   "outputs": [],
   "source": []
  }
 ],
 "metadata": {
  "kernelspec": {
   "display_name": "Python 3 (ipykernel)",
   "language": "python",
   "name": "python3"
  },
  "language_info": {
   "codemirror_mode": {
    "name": "ipython",
    "version": 3
   },
   "file_extension": ".py",
   "mimetype": "text/x-python",
   "name": "python",
   "nbconvert_exporter": "python",
   "pygments_lexer": "ipython3",
   "version": "3.11.8"
  }
 },
 "nbformat": 4,
 "nbformat_minor": 5
}
