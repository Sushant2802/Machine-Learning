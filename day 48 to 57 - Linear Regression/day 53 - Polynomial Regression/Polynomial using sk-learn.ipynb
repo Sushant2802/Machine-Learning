{
 "cells": [
  {
   "cell_type": "code",
   "execution_count": null,
   "id": "c8df9554-9a6d-4e60-be3b-4751a324fd4c",
   "metadata": {},
   "outputs": [],
   "source": []
  },
  {
   "cell_type": "code",
   "execution_count": 4,
   "id": "2d7701c1-8b0d-4550-a610-c73110dfe5b4",
   "metadata": {},
   "outputs": [],
   "source": [
    "import numpy as np\n",
    "import pandas as pd\n",
    "import matplotlib.pyplot as plt\n",
    "from sklearn import datasets\n",
    "\n",
    "from sklearn.model_selection import train_test_split\n",
    "from sklearn.preprocessing import PolynomialFeatures, StandardScaler\n",
    "from sklearn.linear_model import LinearRegression\n",
    "from sklearn.metrics import mean_squared_error, r2_score"
   ]
  },
  {
   "cell_type": "code",
   "execution_count": 10,
   "id": "5661206f-b8cd-4967-8f01-8b9cb6d68f50",
   "metadata": {},
   "outputs": [],
   "source": [
    "# 1. Load the California Housing dataset\n",
    "\n",
    "\n",
    "np.random.seed(0)\n",
    "x = np.random.rand(100, 1) * 10  # Independent variable (features)\n",
    "y = 2 + 3 * x**2 + x**3 + np.random.randn(100, 1) * 100  # Dependent variable (target)"
   ]
  },
  {
   "cell_type": "code",
   "execution_count": 11,
   "id": "797c519a-05ca-4e69-8f98-da8c4396d7f1",
   "metadata": {},
   "outputs": [
    {
     "name": "stdout",
     "output_type": "stream",
     "text": [
      "(150, 1)\n",
      "(100, 1)\n"
     ]
    }
   ],
   "source": [
    "print(X.shape)\n",
    "print(y.shape)"
   ]
  },
  {
   "cell_type": "code",
   "execution_count": 12,
   "id": "77208374-92e4-4468-a4f0-ba414e372a7f",
   "metadata": {},
   "outputs": [
    {
     "data": {
      "text/plain": [
       "array([[-0.90068117],\n",
       "       [-1.14301691],\n",
       "       [-1.38535265],\n",
       "       [-1.50652052],\n",
       "       [-1.02184904],\n",
       "       [-0.53717756],\n",
       "       [-1.50652052],\n",
       "       [-1.02184904],\n",
       "       [-1.74885626],\n",
       "       [-1.14301691],\n",
       "       [-0.53717756],\n",
       "       [-1.26418478],\n",
       "       [-1.26418478],\n",
       "       [-1.87002413],\n",
       "       [-0.05250608],\n",
       "       [-0.17367395],\n",
       "       [-0.53717756],\n",
       "       [-0.90068117],\n",
       "       [-0.17367395],\n",
       "       [-0.90068117],\n",
       "       [-0.53717756],\n",
       "       [-0.90068117],\n",
       "       [-1.50652052],\n",
       "       [-0.90068117],\n",
       "       [-1.26418478],\n",
       "       [-1.02184904],\n",
       "       [-1.02184904],\n",
       "       [-0.7795133 ],\n",
       "       [-0.7795133 ],\n",
       "       [-1.38535265],\n",
       "       [-1.26418478],\n",
       "       [-0.53717756],\n",
       "       [-0.7795133 ],\n",
       "       [-0.41600969],\n",
       "       [-1.14301691],\n",
       "       [-1.02184904],\n",
       "       [-0.41600969],\n",
       "       [-1.14301691],\n",
       "       [-1.74885626],\n",
       "       [-0.90068117],\n",
       "       [-1.02184904],\n",
       "       [-1.62768839],\n",
       "       [-1.74885626],\n",
       "       [-1.02184904],\n",
       "       [-0.90068117],\n",
       "       [-1.26418478],\n",
       "       [-0.90068117],\n",
       "       [-1.50652052],\n",
       "       [-0.65834543],\n",
       "       [-1.02184904],\n",
       "       [ 1.40150837],\n",
       "       [ 0.67450115],\n",
       "       [ 1.2803405 ],\n",
       "       [-0.41600969],\n",
       "       [ 0.79566902],\n",
       "       [-0.17367395],\n",
       "       [ 0.55333328],\n",
       "       [-1.14301691],\n",
       "       [ 0.91683689],\n",
       "       [-0.7795133 ],\n",
       "       [-1.02184904],\n",
       "       [ 0.06866179],\n",
       "       [ 0.18982966],\n",
       "       [ 0.31099753],\n",
       "       [-0.29484182],\n",
       "       [ 1.03800476],\n",
       "       [-0.29484182],\n",
       "       [-0.05250608],\n",
       "       [ 0.4321654 ],\n",
       "       [-0.29484182],\n",
       "       [ 0.06866179],\n",
       "       [ 0.31099753],\n",
       "       [ 0.55333328],\n",
       "       [ 0.31099753],\n",
       "       [ 0.67450115],\n",
       "       [ 0.91683689],\n",
       "       [ 1.15917263],\n",
       "       [ 1.03800476],\n",
       "       [ 0.18982966],\n",
       "       [-0.17367395],\n",
       "       [-0.41600969],\n",
       "       [-0.41600969],\n",
       "       [-0.05250608],\n",
       "       [ 0.18982966],\n",
       "       [-0.53717756],\n",
       "       [ 0.18982966],\n",
       "       [ 1.03800476],\n",
       "       [ 0.55333328],\n",
       "       [-0.29484182],\n",
       "       [-0.41600969],\n",
       "       [-0.41600969],\n",
       "       [ 0.31099753],\n",
       "       [-0.05250608],\n",
       "       [-1.02184904],\n",
       "       [-0.29484182],\n",
       "       [-0.17367395],\n",
       "       [-0.17367395],\n",
       "       [ 0.4321654 ],\n",
       "       [-0.90068117],\n",
       "       [-0.17367395],\n",
       "       [ 0.55333328],\n",
       "       [-0.05250608],\n",
       "       [ 1.52267624],\n",
       "       [ 0.55333328],\n",
       "       [ 0.79566902],\n",
       "       [ 2.12851559],\n",
       "       [-1.14301691],\n",
       "       [ 1.76501198],\n",
       "       [ 1.03800476],\n",
       "       [ 1.64384411],\n",
       "       [ 0.79566902],\n",
       "       [ 0.67450115],\n",
       "       [ 1.15917263],\n",
       "       [-0.17367395],\n",
       "       [-0.05250608],\n",
       "       [ 0.67450115],\n",
       "       [ 0.79566902],\n",
       "       [ 2.24968346],\n",
       "       [ 2.24968346],\n",
       "       [ 0.18982966],\n",
       "       [ 1.2803405 ],\n",
       "       [-0.29484182],\n",
       "       [ 2.24968346],\n",
       "       [ 0.55333328],\n",
       "       [ 1.03800476],\n",
       "       [ 1.64384411],\n",
       "       [ 0.4321654 ],\n",
       "       [ 0.31099753],\n",
       "       [ 0.67450115],\n",
       "       [ 1.64384411],\n",
       "       [ 1.88617985],\n",
       "       [ 2.4920192 ],\n",
       "       [ 0.67450115],\n",
       "       [ 0.55333328],\n",
       "       [ 0.31099753],\n",
       "       [ 2.24968346],\n",
       "       [ 0.55333328],\n",
       "       [ 0.67450115],\n",
       "       [ 0.18982966],\n",
       "       [ 1.2803405 ],\n",
       "       [ 1.03800476],\n",
       "       [ 1.2803405 ],\n",
       "       [-0.05250608],\n",
       "       [ 1.15917263],\n",
       "       [ 1.03800476],\n",
       "       [ 1.03800476],\n",
       "       [ 0.55333328],\n",
       "       [ 0.79566902],\n",
       "       [ 0.4321654 ],\n",
       "       [ 0.06866179]])"
      ]
     },
     "execution_count": 12,
     "metadata": {},
     "output_type": "execute_result"
    }
   ],
   "source": [
    "\n",
    "# 2. Standardize the Data\n",
    "scaler = StandardScaler()\n",
    "X_scaled = scaler.fit_transform(X)\n",
    "X_scaled"
   ]
  },
  {
   "cell_type": "code",
   "execution_count": 13,
   "id": "a972df03-d861-48e2-8660-7cc2f4abd2e6",
   "metadata": {},
   "outputs": [
    {
     "name": "stdout",
     "output_type": "stream",
     "text": [
      "(150, 11)\n"
     ]
    },
    {
     "data": {
      "text/plain": [
       "array([[ 1.00000000e+00, -9.00681170e-01,  8.11226571e-01, ...,\n",
       "         4.33080538e-01, -3.90067486e-01,  3.51326440e-01],\n",
       "       [ 1.00000000e+00, -1.14301691e+00,  1.30648766e+00, ...,\n",
       "         2.91354176e+00, -3.33022750e+00,  3.80650636e+00],\n",
       "       [ 1.00000000e+00, -1.38535265e+00,  1.91920197e+00, ...,\n",
       "         1.35669656e+01, -1.87950318e+01,  2.60377471e+01],\n",
       "       ...,\n",
       "       [ 1.00000000e+00,  7.95669016e-01,  6.33089183e-01, ...,\n",
       "         1.60642174e-01,  1.27818000e-01,  1.01700823e-01],\n",
       "       [ 1.00000000e+00,  4.32165405e-01,  1.86766937e-01, ...,\n",
       "         1.21674616e-03,  5.25835597e-04,  2.27247954e-04],\n",
       "       [ 1.00000000e+00,  6.86617933e-02,  4.71444185e-03, ...,\n",
       "         4.93993386e-10,  3.39184717e-11,  2.32890309e-12]])"
      ]
     },
     "execution_count": 13,
     "metadata": {},
     "output_type": "execute_result"
    }
   ],
   "source": [
    "\n",
    "# 3. Transform the Data to Polynomial Features\n",
    "\n",
    "degree = 10  # Degree of the polynomial\n",
    "\n",
    "poly_features = PolynomialFeatures(degree=degree)\n",
    "\n",
    "X_poly = poly_features.fit_transform(X_scaled)\n",
    "\n",
    "print(X_poly.shape)  # 10 degree = 10 coef_ + 1 intercept_\n",
    "X_poly"
   ]
  },
  {
   "cell_type": "code",
   "execution_count": 16,
   "id": "21f322ae-dc99-46ee-a5c3-5297fbb761ff",
   "metadata": {},
   "outputs": [
    {
     "ename": "ValueError",
     "evalue": "Found input variables with inconsistent numbers of samples: [150, 100]",
     "output_type": "error",
     "traceback": [
      "\u001b[1;31m---------------------------------------------------------------------------\u001b[0m",
      "\u001b[1;31mValueError\u001b[0m                                Traceback (most recent call last)",
      "Cell \u001b[1;32mIn[16], line 3\u001b[0m\n\u001b[0;32m      1\u001b[0m \u001b[38;5;66;03m# 4. Split the Data into Training and Testing Sets\u001b[39;00m\n\u001b[1;32m----> 3\u001b[0m X_train, X_test, y_train, y_test \u001b[38;5;241m=\u001b[39m train_test_split(X_poly, y, test_size\u001b[38;5;241m=\u001b[39m\u001b[38;5;241m0.2\u001b[39m, random_state\u001b[38;5;241m=\u001b[39m\u001b[38;5;241m0\u001b[39m)\n",
      "File \u001b[1;32m~\\anaconda3\\envs\\machine_learning\\Lib\\site-packages\\sklearn\\utils\\_param_validation.py:213\u001b[0m, in \u001b[0;36mvalidate_params.<locals>.decorator.<locals>.wrapper\u001b[1;34m(*args, **kwargs)\u001b[0m\n\u001b[0;32m    207\u001b[0m \u001b[38;5;28;01mtry\u001b[39;00m:\n\u001b[0;32m    208\u001b[0m     \u001b[38;5;28;01mwith\u001b[39;00m config_context(\n\u001b[0;32m    209\u001b[0m         skip_parameter_validation\u001b[38;5;241m=\u001b[39m(\n\u001b[0;32m    210\u001b[0m             prefer_skip_nested_validation \u001b[38;5;129;01mor\u001b[39;00m global_skip_validation\n\u001b[0;32m    211\u001b[0m         )\n\u001b[0;32m    212\u001b[0m     ):\n\u001b[1;32m--> 213\u001b[0m         \u001b[38;5;28;01mreturn\u001b[39;00m func(\u001b[38;5;241m*\u001b[39margs, \u001b[38;5;241m*\u001b[39m\u001b[38;5;241m*\u001b[39mkwargs)\n\u001b[0;32m    214\u001b[0m \u001b[38;5;28;01mexcept\u001b[39;00m InvalidParameterError \u001b[38;5;28;01mas\u001b[39;00m e:\n\u001b[0;32m    215\u001b[0m     \u001b[38;5;66;03m# When the function is just a wrapper around an estimator, we allow\u001b[39;00m\n\u001b[0;32m    216\u001b[0m     \u001b[38;5;66;03m# the function to delegate validation to the estimator, but we replace\u001b[39;00m\n\u001b[0;32m    217\u001b[0m     \u001b[38;5;66;03m# the name of the estimator by the name of the function in the error\u001b[39;00m\n\u001b[0;32m    218\u001b[0m     \u001b[38;5;66;03m# message to avoid confusion.\u001b[39;00m\n\u001b[0;32m    219\u001b[0m     msg \u001b[38;5;241m=\u001b[39m re\u001b[38;5;241m.\u001b[39msub(\n\u001b[0;32m    220\u001b[0m         \u001b[38;5;124mr\u001b[39m\u001b[38;5;124m\"\u001b[39m\u001b[38;5;124mparameter of \u001b[39m\u001b[38;5;124m\\\u001b[39m\u001b[38;5;124mw+ must be\u001b[39m\u001b[38;5;124m\"\u001b[39m,\n\u001b[0;32m    221\u001b[0m         \u001b[38;5;124mf\u001b[39m\u001b[38;5;124m\"\u001b[39m\u001b[38;5;124mparameter of \u001b[39m\u001b[38;5;132;01m{\u001b[39;00mfunc\u001b[38;5;241m.\u001b[39m\u001b[38;5;18m__qualname__\u001b[39m\u001b[38;5;132;01m}\u001b[39;00m\u001b[38;5;124m must be\u001b[39m\u001b[38;5;124m\"\u001b[39m,\n\u001b[0;32m    222\u001b[0m         \u001b[38;5;28mstr\u001b[39m(e),\n\u001b[0;32m    223\u001b[0m     )\n",
      "File \u001b[1;32m~\\anaconda3\\envs\\machine_learning\\Lib\\site-packages\\sklearn\\model_selection\\_split.py:2657\u001b[0m, in \u001b[0;36mtrain_test_split\u001b[1;34m(test_size, train_size, random_state, shuffle, stratify, *arrays)\u001b[0m\n\u001b[0;32m   2654\u001b[0m \u001b[38;5;28;01mif\u001b[39;00m n_arrays \u001b[38;5;241m==\u001b[39m \u001b[38;5;241m0\u001b[39m:\n\u001b[0;32m   2655\u001b[0m     \u001b[38;5;28;01mraise\u001b[39;00m \u001b[38;5;167;01mValueError\u001b[39;00m(\u001b[38;5;124m\"\u001b[39m\u001b[38;5;124mAt least one array required as input\u001b[39m\u001b[38;5;124m\"\u001b[39m)\n\u001b[1;32m-> 2657\u001b[0m arrays \u001b[38;5;241m=\u001b[39m indexable(\u001b[38;5;241m*\u001b[39marrays)\n\u001b[0;32m   2659\u001b[0m n_samples \u001b[38;5;241m=\u001b[39m _num_samples(arrays[\u001b[38;5;241m0\u001b[39m])\n\u001b[0;32m   2660\u001b[0m n_train, n_test \u001b[38;5;241m=\u001b[39m _validate_shuffle_split(\n\u001b[0;32m   2661\u001b[0m     n_samples, test_size, train_size, default_test_size\u001b[38;5;241m=\u001b[39m\u001b[38;5;241m0.25\u001b[39m\n\u001b[0;32m   2662\u001b[0m )\n",
      "File \u001b[1;32m~\\anaconda3\\envs\\machine_learning\\Lib\\site-packages\\sklearn\\utils\\validation.py:514\u001b[0m, in \u001b[0;36mindexable\u001b[1;34m(*iterables)\u001b[0m\n\u001b[0;32m    484\u001b[0m \u001b[38;5;250m\u001b[39m\u001b[38;5;124;03m\"\"\"Make arrays indexable for cross-validation.\u001b[39;00m\n\u001b[0;32m    485\u001b[0m \n\u001b[0;32m    486\u001b[0m \u001b[38;5;124;03mChecks consistent length, passes through None, and ensures that everything\u001b[39;00m\n\u001b[1;32m   (...)\u001b[0m\n\u001b[0;32m    510\u001b[0m \u001b[38;5;124;03m[[1, 2, 3], array([2, 3, 4]), None, <3x1 sparse matrix ...>]\u001b[39;00m\n\u001b[0;32m    511\u001b[0m \u001b[38;5;124;03m\"\"\"\u001b[39;00m\n\u001b[0;32m    513\u001b[0m result \u001b[38;5;241m=\u001b[39m [_make_indexable(X) \u001b[38;5;28;01mfor\u001b[39;00m X \u001b[38;5;129;01min\u001b[39;00m iterables]\n\u001b[1;32m--> 514\u001b[0m check_consistent_length(\u001b[38;5;241m*\u001b[39mresult)\n\u001b[0;32m    515\u001b[0m \u001b[38;5;28;01mreturn\u001b[39;00m result\n",
      "File \u001b[1;32m~\\anaconda3\\envs\\machine_learning\\Lib\\site-packages\\sklearn\\utils\\validation.py:457\u001b[0m, in \u001b[0;36mcheck_consistent_length\u001b[1;34m(*arrays)\u001b[0m\n\u001b[0;32m    455\u001b[0m uniques \u001b[38;5;241m=\u001b[39m np\u001b[38;5;241m.\u001b[39munique(lengths)\n\u001b[0;32m    456\u001b[0m \u001b[38;5;28;01mif\u001b[39;00m \u001b[38;5;28mlen\u001b[39m(uniques) \u001b[38;5;241m>\u001b[39m \u001b[38;5;241m1\u001b[39m:\n\u001b[1;32m--> 457\u001b[0m     \u001b[38;5;28;01mraise\u001b[39;00m \u001b[38;5;167;01mValueError\u001b[39;00m(\n\u001b[0;32m    458\u001b[0m         \u001b[38;5;124m\"\u001b[39m\u001b[38;5;124mFound input variables with inconsistent numbers of samples: \u001b[39m\u001b[38;5;132;01m%r\u001b[39;00m\u001b[38;5;124m\"\u001b[39m\n\u001b[0;32m    459\u001b[0m         \u001b[38;5;241m%\u001b[39m [\u001b[38;5;28mint\u001b[39m(l) \u001b[38;5;28;01mfor\u001b[39;00m l \u001b[38;5;129;01min\u001b[39;00m lengths]\n\u001b[0;32m    460\u001b[0m     )\n",
      "\u001b[1;31mValueError\u001b[0m: Found input variables with inconsistent numbers of samples: [150, 100]"
     ]
    }
   ],
   "source": [
    "\n",
    "# 4. Split the Data into Training and Testing Sets\n",
    "\n",
    "X_train, X_test, y_train, y_test = train_test_split(X_poly, y, test_size=0.2, random_state=0)\n"
   ]
  },
  {
   "cell_type": "code",
   "execution_count": null,
   "id": "74d2bff0-84df-44c4-882f-91030e090c09",
   "metadata": {},
   "outputs": [],
   "source": [
    "\n",
    "# 5. Fit the Polynomial Regression Model\n",
    "\n",
    "model = LinearRegression()\n",
    "model.fit(X_train, y_train)\n"
   ]
  },
  {
   "cell_type": "code",
   "execution_count": null,
   "id": "2fa0478e-fd23-4f88-819a-5aac4aa46277",
   "metadata": {},
   "outputs": [],
   "source": [
    "\n",
    "# 6. Make Predictions\n",
    "\n",
    "y_test_pred = model.predict(X_test)\n"
   ]
  },
  {
   "cell_type": "code",
   "execution_count": 15,
   "id": "df21405b-f980-4d26-a2b3-a4e3349044ae",
   "metadata": {},
   "outputs": [
    {
     "ename": "NameError",
     "evalue": "name 'y_test' is not defined",
     "output_type": "error",
     "traceback": [
      "\u001b[1;31m---------------------------------------------------------------------------\u001b[0m",
      "\u001b[1;31mNameError\u001b[0m                                 Traceback (most recent call last)",
      "Cell \u001b[1;32mIn[15], line 3\u001b[0m\n\u001b[0;32m      1\u001b[0m \u001b[38;5;66;03m# 7. Evaluate the Model\u001b[39;00m\n\u001b[1;32m----> 3\u001b[0m test_mse \u001b[38;5;241m=\u001b[39m mean_squared_error(y_test, y_test_pred)\n\u001b[0;32m      5\u001b[0m test_r2 \u001b[38;5;241m=\u001b[39m r2_score(y_test, y_test_pred)\n\u001b[0;32m      7\u001b[0m \u001b[38;5;28mprint\u001b[39m(\u001b[38;5;124mf\u001b[39m\u001b[38;5;124m\"\u001b[39m\u001b[38;5;124mTest Mean Squared Error: \u001b[39m\u001b[38;5;132;01m{\u001b[39;00mtest_mse\u001b[38;5;132;01m}\u001b[39;00m\u001b[38;5;124m\"\u001b[39m)\n",
      "\u001b[1;31mNameError\u001b[0m: name 'y_test' is not defined"
     ]
    }
   ],
   "source": [
    "# 7. Evaluate the Model\n",
    "\n",
    "test_mse = mean_squared_error(y_test, y_test_pred)\n",
    "\n",
    "test_r2 = r2_score(y_test, y_test_pred)\n",
    "\n",
    "print(f\"Test Mean Squared Error: {test_mse}\")\n",
    "print(f\"Test R-squared: {test_r2}\")"
   ]
  },
  {
   "cell_type": "code",
   "execution_count": null,
   "id": "63f22bb8-bdd7-4325-8216-25bcaeea74fc",
   "metadata": {},
   "outputs": [],
   "source": []
  },
  {
   "cell_type": "code",
   "execution_count": null,
   "id": "175b05e2-063a-40a8-94d6-9878d2bfc241",
   "metadata": {},
   "outputs": [],
   "source": []
  },
  {
   "cell_type": "code",
   "execution_count": null,
   "id": "2145b5d8-7a6b-4937-8c84-18226f9540e1",
   "metadata": {},
   "outputs": [],
   "source": []
  }
 ],
 "metadata": {
  "kernelspec": {
   "display_name": "Python 3 (ipykernel)",
   "language": "python",
   "name": "python3"
  },
  "language_info": {
   "codemirror_mode": {
    "name": "ipython",
    "version": 3
   },
   "file_extension": ".py",
   "mimetype": "text/x-python",
   "name": "python",
   "nbconvert_exporter": "python",
   "pygments_lexer": "ipython3",
   "version": "3.11.8"
  }
 },
 "nbformat": 4,
 "nbformat_minor": 5
}
