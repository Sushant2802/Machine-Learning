{
 "cells": [
  {
   "cell_type": "code",
   "execution_count": 1,
   "id": "9566250e-1522-4903-9b09-da712d5e4f9f",
   "metadata": {},
   "outputs": [],
   "source": [
    "from sklearn.datasets import make_regression\n",
    "import plotly.express as px\n",
    "import plotly.graph_objects as go\n",
    "\n",
    "import numpy as np\n",
    "import pandas as pd\n",
    "\n",
    "from sklearn.metrics import mean_absolute_error, mean_squared_error, r2_score"
   ]
  },
  {
   "cell_type": "code",
   "execution_count": 43,
   "id": "9fdb47b2-81cb-4138-a6d4-f3e033999200",
   "metadata": {},
   "outputs": [],
   "source": [
    "X,y = make_regression(n_samples=100, n_features=2, n_informative=2, n_targets=1, noise=50)"
   ]
  },
  {
   "cell_type": "code",
   "execution_count": 44,
   "id": "bcb8a090-c61a-4c96-a3ca-272aaf31677e",
   "metadata": {},
   "outputs": [],
   "source": [
    "df = pd.DataFrame({'feature1':X[:,0], 'feature2':X[:, 1], 'target':y})"
   ]
  },
  {
   "cell_type": "code",
   "execution_count": 45,
   "id": "604463ae-ea35-46d0-8024-defec76a97db",
   "metadata": {},
   "outputs": [
    {
     "data": {
      "text/plain": [
       "(100, 3)"
      ]
     },
     "execution_count": 45,
     "metadata": {},
     "output_type": "execute_result"
    }
   ],
   "source": [
    "df.shape"
   ]
  },
  {
   "cell_type": "code",
   "execution_count": 46,
   "id": "c20df2e3-9d3b-49dd-bc55-4fdedce4693f",
   "metadata": {},
   "outputs": [
    {
     "data": {
      "text/html": [
       "<div>\n",
       "<style scoped>\n",
       "    .dataframe tbody tr th:only-of-type {\n",
       "        vertical-align: middle;\n",
       "    }\n",
       "\n",
       "    .dataframe tbody tr th {\n",
       "        vertical-align: top;\n",
       "    }\n",
       "\n",
       "    .dataframe thead th {\n",
       "        text-align: right;\n",
       "    }\n",
       "</style>\n",
       "<table border=\"1\" class=\"dataframe\">\n",
       "  <thead>\n",
       "    <tr style=\"text-align: right;\">\n",
       "      <th></th>\n",
       "      <th>feature1</th>\n",
       "      <th>feature2</th>\n",
       "      <th>target</th>\n",
       "    </tr>\n",
       "  </thead>\n",
       "  <tbody>\n",
       "    <tr>\n",
       "      <th>0</th>\n",
       "      <td>0.278141</td>\n",
       "      <td>-0.397205</td>\n",
       "      <td>82.496126</td>\n",
       "    </tr>\n",
       "    <tr>\n",
       "      <th>1</th>\n",
       "      <td>-0.563584</td>\n",
       "      <td>0.271079</td>\n",
       "      <td>-21.377819</td>\n",
       "    </tr>\n",
       "    <tr>\n",
       "      <th>2</th>\n",
       "      <td>-1.267759</td>\n",
       "      <td>2.518916</td>\n",
       "      <td>54.032590</td>\n",
       "    </tr>\n",
       "    <tr>\n",
       "      <th>3</th>\n",
       "      <td>-0.975935</td>\n",
       "      <td>0.081618</td>\n",
       "      <td>-101.941219</td>\n",
       "    </tr>\n",
       "    <tr>\n",
       "      <th>4</th>\n",
       "      <td>0.490868</td>\n",
       "      <td>0.753686</td>\n",
       "      <td>93.864912</td>\n",
       "    </tr>\n",
       "  </tbody>\n",
       "</table>\n",
       "</div>"
      ],
      "text/plain": [
       "   feature1  feature2      target\n",
       "0  0.278141 -0.397205   82.496126\n",
       "1 -0.563584  0.271079  -21.377819\n",
       "2 -1.267759  2.518916   54.032590\n",
       "3 -0.975935  0.081618 -101.941219\n",
       "4  0.490868  0.753686   93.864912"
      ]
     },
     "execution_count": 46,
     "metadata": {},
     "output_type": "execute_result"
    }
   ],
   "source": [
    "df.head()"
   ]
  },
  {
   "cell_type": "code",
   "execution_count": 47,
   "id": "b42c82d6-a28f-479c-bb85-6ac9c361c3e2",
   "metadata": {},
   "outputs": [
    {
     "data": {
      "application/vnd.plotly.v1+json": {
       "config": {
        "plotlyServerURL": "https://plot.ly"
       },
       "data": [
        {
         "hovertemplate": "feature1=%{x}<br>feature2=%{y}<br>target=%{z}<extra></extra>",
         "legendgroup": "",
         "marker": {
          "color": "#636efa",
          "symbol": "circle"
         },
         "mode": "markers",
         "name": "",
         "scene": "scene",
         "showlegend": false,
         "type": "scatter3d",
         "x": [
          0.2781407394040055,
          -0.5635840265058059,
          -1.267759040780249,
          -0.9759349232251411,
          0.49086775055969983,
          0.06936880933023985,
          0.0716575573014017,
          1.2717496542525804,
          0.9437263908133028,
          0.6026745868598421,
          0.25040058141317084,
          -0.5836194861297086,
          0.31422336401526024,
          -0.7196904599344158,
          1.1529168923056654,
          1.0373976766479336,
          -1.064581470974407,
          -0.2322808554749028,
          -1.200351899826103,
          0.09878295180606492,
          0.6346454815486634,
          -0.5871640860721099,
          0.8157017280970176,
          1.7384583320320939,
          0.8400946292230073,
          2.631073189903033,
          0.13125786801108755,
          -0.9936054189904594,
          0.859124205931587,
          -0.19298999678877485,
          -0.7139532186943869,
          0.34093874994310963,
          0.10522135114839445,
          -0.6299579644877495,
          0.12320957784567053,
          0.17205506787526736,
          -2.46173654657784,
          -1.7709105362765465,
          -2.2210261460912264,
          0.43303351660739736,
          1.2053651224438409,
          0.6787999258227848,
          0.35706002282781024,
          1.0340564892519646,
          -0.5668071304492077,
          -0.19508361653820902,
          0.7391508371157174,
          0.45154590350011603,
          -0.40642751088954165,
          0.6973351327258832,
          1.5426380625725105,
          0.18693180518139524,
          0.7050074531504269,
          -0.9207622846928091,
          -0.7823808850091747,
          -1.3670774476333194,
          -0.81285418649095,
          -0.6310724702832534,
          0.5839660613042248,
          -0.6869711018925744,
          0.6208717085862308,
          0.2519748804676733,
          -2.055360341309257,
          -0.34426197684821885,
          0.2955341826963646,
          -1.1084147616331887,
          0.010358695718015285,
          0.17559949131181762,
          -1.5437093779871995,
          0.13118987990318154,
          -1.5475091027060384,
          -1.103729832356129,
          1.190720152257798,
          0.55371055168797,
          0.48498479790067184,
          -1.324747063915812,
          1.1372282891511651,
          -0.3613532725794906,
          0.1697263351874196,
          0.8251810858667213,
          0.3462474817183834,
          -0.6050493901418441,
          0.05378768497479427,
          0.029504832648421776,
          0.4824484417783393,
          0.36081423138573576,
          -1.6222867602961688,
          0.7173275608210018,
          0.5983674304730029,
          -0.09713326420049795,
          1.8964403875424942,
          -0.04522575991917249,
          1.6438882363903342,
          1.597016755261902,
          2.240888111619055,
          0.566570528428044,
          1.051621590382758,
          -0.9286176271470742,
          1.9899057647594878,
          1.6042964623428213
         ],
         "y": [
          -0.3972053688269867,
          0.27107934282408525,
          2.5189157104537685,
          0.08161816901577769,
          0.7536859330713931,
          0.845377608962402,
          -1.9371627307852093,
          -1.046315650267398,
          -0.3623727787449826,
          -0.14499465015495774,
          0.2534876072471677,
          -0.03906208889218445,
          -0.8393276002336755,
          -1.1934352392472378,
          -2.079765334895109,
          0.6419492645512683,
          -1.4381767880301617,
          0.12962886446302085,
          1.260621731976962,
          -0.7694829234765636,
          1.4672326933810342,
          2.291714617102625,
          -1.0872695305353122,
          -1.3887158847947025,
          0.27698724714194806,
          -1.975574354835797,
          -0.7399111042279612,
          -0.41765309959424124,
          -1.4075316854115327,
          1.118913038512196,
          0.9627754574900094,
          -0.9884551364276166,
          -1.3965880127659873,
          0.31570481230941777,
          -0.6423283328485822,
          -0.2790389613805724,
          0.22834073759537288,
          -0.14516229179830897,
          -1.4450894479114496,
          0.4661728799708747,
          0.12364824758880896,
          1.920120852286527,
          0.20634157613129037,
          -0.5361635287315818,
          1.559554197427379,
          2.0294489627685683,
          -0.320884740811216,
          -1.415544144728935,
          0.3122370800816152,
          0.14449402222127317,
          -0.4970008854031726,
          -1.3749969677678424,
          2.860928723716111,
          -0.7192077012578566,
          -0.25788427776713296,
          0.1530653294942147,
          -0.46196154698323716,
          -0.0953972886972723,
          -1.8829391300857474,
          0.9414498508027473,
          0.5928006440898781,
          -0.831561651294708,
          0.4371930177927706,
          0.38174834312529077,
          1.8422121688603699,
          2.21800589680416,
          0.017514843818767025,
          0.44284119808587247,
          -0.42998276904946675,
          -0.23990060929827306,
          -1.6178686057690115,
          0.7927830108771473,
          0.4485887896601841,
          -0.9301539617676376,
          1.0556926438501335,
          1.4391703267923248,
          1.142968605409278,
          0.06333981066318325,
          -0.10473051206386975,
          -1.745973986375225,
          0.16787635951973057,
          -1.4314303803042385,
          0.28395804455548984,
          -0.6969264082826567,
          1.324564400479832,
          1.390322016620873,
          0.08220271079645608,
          -0.24254548775445148,
          -0.40370616976075663,
          -1.3409518667960434,
          0.66155988877515,
          1.2774022000795016,
          0.7787279550246198,
          0.16566145048693878,
          0.26816985648052694,
          -2.6438984696612517,
          0.061661043627488366,
          0.9226231037978103,
          0.7743470170108205,
          2.6016233219142113
         ],
         "z": [
          82.49612567627555,
          -21.37781860102968,
          54.03258996476709,
          -101.94121923815948,
          93.86491160070331,
          108.34237592816422,
          -108.84575417660565,
          17.801359219658234,
          91.38751405332086,
          4.805249810401243,
          0.32934203732391865,
          -33.990972588135534,
          -38.41930444048961,
          -151.67697628990697,
          -17.20080233162335,
          72.39326575329328,
          -146.39424767885095,
          -24.426618356901805,
          -35.35291623973912,
          -44.17904244637171,
          187.11633953321015,
          73.83499576442705,
          6.287494316207768,
          52.31120247613612,
          107.29856692091165,
          154.4280773806399,
          23.249073571862375,
          -200.94329949282758,
          -46.88663000194538,
          2.4755466389290532,
          25.51907775893197,
          54.64819134196772,
          -105.72036971365209,
          15.744456671963505,
          52.78192851929625,
          38.6728121412513,
          -132.6814892206617,
          -151.43833540526936,
          -324.94902949082575,
          60.380142966885174,
          130.3846515542328,
          197.84799716408574,
          -20.598862509941547,
          148.61710801613023,
          72.95658732219388,
          94.47525326616997,
          -16.11384271550788,
          -55.39285243337019,
          -29.29796760451459,
          103.78840432916635,
          57.74867895912095,
          -145.95818679026655,
          329.25141260544615,
          -143.10442602207743,
          -87.91195395356866,
          -68.9039474415704,
          -111.67445102766,
          -99.52523273972454,
          -55.111371885967046,
          2.8769583278179756,
          57.68083170705422,
          -57.741511236847266,
          -242.68441890833887,
          -77.13903160119978,
          165.10697462657686,
          82.78129917118312,
          120.17195239558494,
          -10.765954107966216,
          -210.52198299642606,
          12.619171866687793,
          -209.7145440727808,
          -55.35549369790021,
          185.7199879155007,
          -35.64636463255316,
          86.34294560549904,
          -19.75605642268006,
          237.30971816232656,
          56.32908615428403,
          -44.07917426065612,
          9.3833149801726,
          33.18735159178068,
          -189.9405020531163,
          75.28874379639501,
          -27.034819017055124,
          178.30733810600802,
          176.54524047598463,
          -191.6654985226225,
          56.76152568185435,
          22.879885656068222,
          -34.64535383231188,
          249.51910557711454,
          108.96198544234439,
          231.16682343578626,
          123.29383325368839,
          207.81438172392825,
          -123.61485639353383,
          105.72486789335315,
          5.358062581117974,
          284.0447971813895,
          421.4135039054634
         ]
        }
       ],
       "layout": {
        "autosize": true,
        "legend": {
         "tracegroupgap": 0
        },
        "margin": {
         "t": 60
        },
        "scene": {
         "aspectmode": "auto",
         "aspectratio": {
          "x": 1,
          "y": 1,
          "z": 1
         },
         "camera": {
          "center": {
           "x": 0,
           "y": 0,
           "z": 0
          },
          "eye": {
           "x": 1.2500000000000002,
           "y": 1.25,
           "z": 1.2500000000000002
          },
          "projection": {
           "type": "perspective"
          },
          "up": {
           "x": 0,
           "y": 0,
           "z": 1
          }
         },
         "domain": {
          "x": [
           0,
           1
          ],
          "y": [
           0,
           1
          ]
         },
         "xaxis": {
          "title": {
           "text": "feature1"
          },
          "type": "linear"
         },
         "yaxis": {
          "title": {
           "text": "feature2"
          },
          "type": "linear"
         },
         "zaxis": {
          "title": {
           "text": "target"
          },
          "type": "linear"
         }
        },
        "template": {
         "data": {
          "bar": [
           {
            "error_x": {
             "color": "#2a3f5f"
            },
            "error_y": {
             "color": "#2a3f5f"
            },
            "marker": {
             "line": {
              "color": "#E5ECF6",
              "width": 0.5
             },
             "pattern": {
              "fillmode": "overlay",
              "size": 10,
              "solidity": 0.2
             }
            },
            "type": "bar"
           }
          ],
          "barpolar": [
           {
            "marker": {
             "line": {
              "color": "#E5ECF6",
              "width": 0.5
             },
             "pattern": {
              "fillmode": "overlay",
              "size": 10,
              "solidity": 0.2
             }
            },
            "type": "barpolar"
           }
          ],
          "carpet": [
           {
            "aaxis": {
             "endlinecolor": "#2a3f5f",
             "gridcolor": "white",
             "linecolor": "white",
             "minorgridcolor": "white",
             "startlinecolor": "#2a3f5f"
            },
            "baxis": {
             "endlinecolor": "#2a3f5f",
             "gridcolor": "white",
             "linecolor": "white",
             "minorgridcolor": "white",
             "startlinecolor": "#2a3f5f"
            },
            "type": "carpet"
           }
          ],
          "choropleth": [
           {
            "colorbar": {
             "outlinewidth": 0,
             "ticks": ""
            },
            "type": "choropleth"
           }
          ],
          "contour": [
           {
            "colorbar": {
             "outlinewidth": 0,
             "ticks": ""
            },
            "colorscale": [
             [
              0,
              "#0d0887"
             ],
             [
              0.1111111111111111,
              "#46039f"
             ],
             [
              0.2222222222222222,
              "#7201a8"
             ],
             [
              0.3333333333333333,
              "#9c179e"
             ],
             [
              0.4444444444444444,
              "#bd3786"
             ],
             [
              0.5555555555555556,
              "#d8576b"
             ],
             [
              0.6666666666666666,
              "#ed7953"
             ],
             [
              0.7777777777777778,
              "#fb9f3a"
             ],
             [
              0.8888888888888888,
              "#fdca26"
             ],
             [
              1,
              "#f0f921"
             ]
            ],
            "type": "contour"
           }
          ],
          "contourcarpet": [
           {
            "colorbar": {
             "outlinewidth": 0,
             "ticks": ""
            },
            "type": "contourcarpet"
           }
          ],
          "heatmap": [
           {
            "colorbar": {
             "outlinewidth": 0,
             "ticks": ""
            },
            "colorscale": [
             [
              0,
              "#0d0887"
             ],
             [
              0.1111111111111111,
              "#46039f"
             ],
             [
              0.2222222222222222,
              "#7201a8"
             ],
             [
              0.3333333333333333,
              "#9c179e"
             ],
             [
              0.4444444444444444,
              "#bd3786"
             ],
             [
              0.5555555555555556,
              "#d8576b"
             ],
             [
              0.6666666666666666,
              "#ed7953"
             ],
             [
              0.7777777777777778,
              "#fb9f3a"
             ],
             [
              0.8888888888888888,
              "#fdca26"
             ],
             [
              1,
              "#f0f921"
             ]
            ],
            "type": "heatmap"
           }
          ],
          "heatmapgl": [
           {
            "colorbar": {
             "outlinewidth": 0,
             "ticks": ""
            },
            "colorscale": [
             [
              0,
              "#0d0887"
             ],
             [
              0.1111111111111111,
              "#46039f"
             ],
             [
              0.2222222222222222,
              "#7201a8"
             ],
             [
              0.3333333333333333,
              "#9c179e"
             ],
             [
              0.4444444444444444,
              "#bd3786"
             ],
             [
              0.5555555555555556,
              "#d8576b"
             ],
             [
              0.6666666666666666,
              "#ed7953"
             ],
             [
              0.7777777777777778,
              "#fb9f3a"
             ],
             [
              0.8888888888888888,
              "#fdca26"
             ],
             [
              1,
              "#f0f921"
             ]
            ],
            "type": "heatmapgl"
           }
          ],
          "histogram": [
           {
            "marker": {
             "pattern": {
              "fillmode": "overlay",
              "size": 10,
              "solidity": 0.2
             }
            },
            "type": "histogram"
           }
          ],
          "histogram2d": [
           {
            "colorbar": {
             "outlinewidth": 0,
             "ticks": ""
            },
            "colorscale": [
             [
              0,
              "#0d0887"
             ],
             [
              0.1111111111111111,
              "#46039f"
             ],
             [
              0.2222222222222222,
              "#7201a8"
             ],
             [
              0.3333333333333333,
              "#9c179e"
             ],
             [
              0.4444444444444444,
              "#bd3786"
             ],
             [
              0.5555555555555556,
              "#d8576b"
             ],
             [
              0.6666666666666666,
              "#ed7953"
             ],
             [
              0.7777777777777778,
              "#fb9f3a"
             ],
             [
              0.8888888888888888,
              "#fdca26"
             ],
             [
              1,
              "#f0f921"
             ]
            ],
            "type": "histogram2d"
           }
          ],
          "histogram2dcontour": [
           {
            "colorbar": {
             "outlinewidth": 0,
             "ticks": ""
            },
            "colorscale": [
             [
              0,
              "#0d0887"
             ],
             [
              0.1111111111111111,
              "#46039f"
             ],
             [
              0.2222222222222222,
              "#7201a8"
             ],
             [
              0.3333333333333333,
              "#9c179e"
             ],
             [
              0.4444444444444444,
              "#bd3786"
             ],
             [
              0.5555555555555556,
              "#d8576b"
             ],
             [
              0.6666666666666666,
              "#ed7953"
             ],
             [
              0.7777777777777778,
              "#fb9f3a"
             ],
             [
              0.8888888888888888,
              "#fdca26"
             ],
             [
              1,
              "#f0f921"
             ]
            ],
            "type": "histogram2dcontour"
           }
          ],
          "mesh3d": [
           {
            "colorbar": {
             "outlinewidth": 0,
             "ticks": ""
            },
            "type": "mesh3d"
           }
          ],
          "parcoords": [
           {
            "line": {
             "colorbar": {
              "outlinewidth": 0,
              "ticks": ""
             }
            },
            "type": "parcoords"
           }
          ],
          "pie": [
           {
            "automargin": true,
            "type": "pie"
           }
          ],
          "scatter": [
           {
            "fillpattern": {
             "fillmode": "overlay",
             "size": 10,
             "solidity": 0.2
            },
            "type": "scatter"
           }
          ],
          "scatter3d": [
           {
            "line": {
             "colorbar": {
              "outlinewidth": 0,
              "ticks": ""
             }
            },
            "marker": {
             "colorbar": {
              "outlinewidth": 0,
              "ticks": ""
             }
            },
            "type": "scatter3d"
           }
          ],
          "scattercarpet": [
           {
            "marker": {
             "colorbar": {
              "outlinewidth": 0,
              "ticks": ""
             }
            },
            "type": "scattercarpet"
           }
          ],
          "scattergeo": [
           {
            "marker": {
             "colorbar": {
              "outlinewidth": 0,
              "ticks": ""
             }
            },
            "type": "scattergeo"
           }
          ],
          "scattergl": [
           {
            "marker": {
             "colorbar": {
              "outlinewidth": 0,
              "ticks": ""
             }
            },
            "type": "scattergl"
           }
          ],
          "scattermapbox": [
           {
            "marker": {
             "colorbar": {
              "outlinewidth": 0,
              "ticks": ""
             }
            },
            "type": "scattermapbox"
           }
          ],
          "scatterpolar": [
           {
            "marker": {
             "colorbar": {
              "outlinewidth": 0,
              "ticks": ""
             }
            },
            "type": "scatterpolar"
           }
          ],
          "scatterpolargl": [
           {
            "marker": {
             "colorbar": {
              "outlinewidth": 0,
              "ticks": ""
             }
            },
            "type": "scatterpolargl"
           }
          ],
          "scatterternary": [
           {
            "marker": {
             "colorbar": {
              "outlinewidth": 0,
              "ticks": ""
             }
            },
            "type": "scatterternary"
           }
          ],
          "surface": [
           {
            "colorbar": {
             "outlinewidth": 0,
             "ticks": ""
            },
            "colorscale": [
             [
              0,
              "#0d0887"
             ],
             [
              0.1111111111111111,
              "#46039f"
             ],
             [
              0.2222222222222222,
              "#7201a8"
             ],
             [
              0.3333333333333333,
              "#9c179e"
             ],
             [
              0.4444444444444444,
              "#bd3786"
             ],
             [
              0.5555555555555556,
              "#d8576b"
             ],
             [
              0.6666666666666666,
              "#ed7953"
             ],
             [
              0.7777777777777778,
              "#fb9f3a"
             ],
             [
              0.8888888888888888,
              "#fdca26"
             ],
             [
              1,
              "#f0f921"
             ]
            ],
            "type": "surface"
           }
          ],
          "table": [
           {
            "cells": {
             "fill": {
              "color": "#EBF0F8"
             },
             "line": {
              "color": "white"
             }
            },
            "header": {
             "fill": {
              "color": "#C8D4E3"
             },
             "line": {
              "color": "white"
             }
            },
            "type": "table"
           }
          ]
         },
         "layout": {
          "annotationdefaults": {
           "arrowcolor": "#2a3f5f",
           "arrowhead": 0,
           "arrowwidth": 1
          },
          "autotypenumbers": "strict",
          "coloraxis": {
           "colorbar": {
            "outlinewidth": 0,
            "ticks": ""
           }
          },
          "colorscale": {
           "diverging": [
            [
             0,
             "#8e0152"
            ],
            [
             0.1,
             "#c51b7d"
            ],
            [
             0.2,
             "#de77ae"
            ],
            [
             0.3,
             "#f1b6da"
            ],
            [
             0.4,
             "#fde0ef"
            ],
            [
             0.5,
             "#f7f7f7"
            ],
            [
             0.6,
             "#e6f5d0"
            ],
            [
             0.7,
             "#b8e186"
            ],
            [
             0.8,
             "#7fbc41"
            ],
            [
             0.9,
             "#4d9221"
            ],
            [
             1,
             "#276419"
            ]
           ],
           "sequential": [
            [
             0,
             "#0d0887"
            ],
            [
             0.1111111111111111,
             "#46039f"
            ],
            [
             0.2222222222222222,
             "#7201a8"
            ],
            [
             0.3333333333333333,
             "#9c179e"
            ],
            [
             0.4444444444444444,
             "#bd3786"
            ],
            [
             0.5555555555555556,
             "#d8576b"
            ],
            [
             0.6666666666666666,
             "#ed7953"
            ],
            [
             0.7777777777777778,
             "#fb9f3a"
            ],
            [
             0.8888888888888888,
             "#fdca26"
            ],
            [
             1,
             "#f0f921"
            ]
           ],
           "sequentialminus": [
            [
             0,
             "#0d0887"
            ],
            [
             0.1111111111111111,
             "#46039f"
            ],
            [
             0.2222222222222222,
             "#7201a8"
            ],
            [
             0.3333333333333333,
             "#9c179e"
            ],
            [
             0.4444444444444444,
             "#bd3786"
            ],
            [
             0.5555555555555556,
             "#d8576b"
            ],
            [
             0.6666666666666666,
             "#ed7953"
            ],
            [
             0.7777777777777778,
             "#fb9f3a"
            ],
            [
             0.8888888888888888,
             "#fdca26"
            ],
            [
             1,
             "#f0f921"
            ]
           ]
          },
          "colorway": [
           "#636efa",
           "#EF553B",
           "#00cc96",
           "#ab63fa",
           "#FFA15A",
           "#19d3f3",
           "#FF6692",
           "#B6E880",
           "#FF97FF",
           "#FECB52"
          ],
          "font": {
           "color": "#2a3f5f"
          },
          "geo": {
           "bgcolor": "white",
           "lakecolor": "white",
           "landcolor": "#E5ECF6",
           "showlakes": true,
           "showland": true,
           "subunitcolor": "white"
          },
          "hoverlabel": {
           "align": "left"
          },
          "hovermode": "closest",
          "mapbox": {
           "style": "light"
          },
          "paper_bgcolor": "white",
          "plot_bgcolor": "#E5ECF6",
          "polar": {
           "angularaxis": {
            "gridcolor": "white",
            "linecolor": "white",
            "ticks": ""
           },
           "bgcolor": "#E5ECF6",
           "radialaxis": {
            "gridcolor": "white",
            "linecolor": "white",
            "ticks": ""
           }
          },
          "scene": {
           "xaxis": {
            "backgroundcolor": "#E5ECF6",
            "gridcolor": "white",
            "gridwidth": 2,
            "linecolor": "white",
            "showbackground": true,
            "ticks": "",
            "zerolinecolor": "white"
           },
           "yaxis": {
            "backgroundcolor": "#E5ECF6",
            "gridcolor": "white",
            "gridwidth": 2,
            "linecolor": "white",
            "showbackground": true,
            "ticks": "",
            "zerolinecolor": "white"
           },
           "zaxis": {
            "backgroundcolor": "#E5ECF6",
            "gridcolor": "white",
            "gridwidth": 2,
            "linecolor": "white",
            "showbackground": true,
            "ticks": "",
            "zerolinecolor": "white"
           }
          },
          "shapedefaults": {
           "line": {
            "color": "#2a3f5f"
           }
          },
          "ternary": {
           "aaxis": {
            "gridcolor": "white",
            "linecolor": "white",
            "ticks": ""
           },
           "baxis": {
            "gridcolor": "white",
            "linecolor": "white",
            "ticks": ""
           },
           "bgcolor": "#E5ECF6",
           "caxis": {
            "gridcolor": "white",
            "linecolor": "white",
            "ticks": ""
           }
          },
          "title": {
           "x": 0.05
          },
          "xaxis": {
           "automargin": true,
           "gridcolor": "white",
           "linecolor": "white",
           "ticks": "",
           "title": {
            "standoff": 15
           },
           "zerolinecolor": "white",
           "zerolinewidth": 2
          },
          "yaxis": {
           "automargin": true,
           "gridcolor": "white",
           "linecolor": "white",
           "ticks": "",
           "title": {
            "standoff": 15
           },
           "zerolinecolor": "white",
           "zerolinewidth": 2
          }
         }
        }
       }
      },
      "image/png": "[encoded data removed]",
      "text/html": [
       "<div>                            <div id=\"00b5ffd4-3ba0-4fee-be48-8ad0199ab1bd\" class=\"plotly-graph-div\" style=\"height:525px; width:100%;\"></div>            <script type=\"text/javascript\">                require([\"plotly\"], function(Plotly) {                    window.PLOTLYENV=window.PLOTLYENV || {};                                    if (document.getElementById(\"00b5ffd4-3ba0-4fee-be48-8ad0199ab1bd\")) {                    Plotly.newPlot(                        \"00b5ffd4-3ba0-4fee-be48-8ad0199ab1bd\",                        [{\"hovertemplate\":\"feature1=%{x}\\u003cbr\\u003efeature2=%{y}\\u003cbr\\u003etarget=%{z}\\u003cextra\\u003e\\u003c\\u002fextra\\u003e\",\"legendgroup\":\"\",\"marker\":{\"color\":\"#636efa\",\"symbol\":\"circle\"},\"mode\":\"markers\",\"name\":\"\",\"scene\":\"scene\",\"showlegend\":false,\"x\":[0.2781407394040055,-0.5635840265058059,-1.267759040780249,-0.9759349232251411,0.49086775055969983,0.06936880933023985,0.0716575573014017,1.2717496542525804,0.9437263908133028,0.6026745868598421,0.25040058141317084,-0.5836194861297086,0.31422336401526024,-0.7196904599344158,1.1529168923056654,1.0373976766479336,-1.064581470974407,-0.2322808554749028,-1.200351899826103,0.09878295180606492,0.6346454815486634,-0.5871640860721099,0.8157017280970176,1.7384583320320939,0.8400946292230073,2.631073189903033,0.13125786801108755,-0.9936054189904594,0.859124205931587,-0.19298999678877485,-0.7139532186943869,0.34093874994310963,0.10522135114839445,-0.6299579644877495,0.12320957784567053,0.17205506787526736,-2.46173654657784,-1.7709105362765465,-2.2210261460912264,0.43303351660739736,1.2053651224438409,0.6787999258227848,0.35706002282781024,1.0340564892519646,-0.5668071304492077,-0.19508361653820902,0.7391508371157174,0.45154590350011603,-0.40642751088954165,0.6973351327258832,1.5426380625725105,0.18693180518139524,0.7050074531504269,-0.9207622846928091,-0.7823808850091747,-1.3670774476333194,-0.81285418649095,-0.6310724702832534,0.5839660613042248,-0.6869711018925744,0.6208717085862308,0.2519748804676733,-2.055360341309257,-0.34426197684821885,0.2955341826963646,-1.1084147616331887,0.010358695718015285,0.17559949131181762,-1.5437093779871995,0.13118987990318154,-1.5475091027060384,-1.103729832356129,1.190720152257798,0.55371055168797,0.48498479790067184,-1.324747063915812,1.1372282891511651,-0.3613532725794906,0.1697263351874196,0.8251810858667213,0.3462474817183834,-0.6050493901418441,0.05378768497479427,0.029504832648421776,0.4824484417783393,0.36081423138573576,-1.6222867602961688,0.7173275608210018,0.5983674304730029,-0.09713326420049795,1.8964403875424942,-0.04522575991917249,1.6438882363903342,1.597016755261902,2.240888111619055,0.566570528428044,1.051621590382758,-0.9286176271470742,1.9899057647594878,1.6042964623428213],\"y\":[-0.3972053688269867,0.27107934282408525,2.5189157104537685,0.08161816901577769,0.7536859330713931,0.845377608962402,-1.9371627307852093,-1.046315650267398,-0.3623727787449826,-0.14499465015495774,0.2534876072471677,-0.03906208889218445,-0.8393276002336755,-1.1934352392472378,-2.079765334895109,0.6419492645512683,-1.4381767880301617,0.12962886446302085,1.260621731976962,-0.7694829234765636,1.4672326933810342,2.291714617102625,-1.0872695305353122,-1.3887158847947025,0.27698724714194806,-1.975574354835797,-0.7399111042279612,-0.41765309959424124,-1.4075316854115327,1.118913038512196,0.9627754574900094,-0.9884551364276166,-1.3965880127659873,0.31570481230941777,-0.6423283328485822,-0.2790389613805724,0.22834073759537288,-0.14516229179830897,-1.4450894479114496,0.4661728799708747,0.12364824758880896,1.920120852286527,0.20634157613129037,-0.5361635287315818,1.559554197427379,2.0294489627685683,-0.320884740811216,-1.415544144728935,0.3122370800816152,0.14449402222127317,-0.4970008854031726,-1.3749969677678424,2.860928723716111,-0.7192077012578566,-0.25788427776713296,0.1530653294942147,-0.46196154698323716,-0.0953972886972723,-1.8829391300857474,0.9414498508027473,0.5928006440898781,-0.831561651294708,0.4371930177927706,0.38174834312529077,1.8422121688603699,2.21800589680416,0.017514843818767025,0.44284119808587247,-0.42998276904946675,-0.23990060929827306,-1.6178686057690115,0.7927830108771473,0.4485887896601841,-0.9301539617676376,1.0556926438501335,1.4391703267923248,1.142968605409278,0.06333981066318325,-0.10473051206386975,-1.745973986375225,0.16787635951973057,-1.4314303803042385,0.28395804455548984,-0.6969264082826567,1.324564400479832,1.390322016620873,0.08220271079645608,-0.24254548775445148,-0.40370616976075663,-1.3409518667960434,0.66155988877515,1.2774022000795016,0.7787279550246198,0.16566145048693878,0.26816985648052694,-2.6438984696612517,0.061661043627488366,0.9226231037978103,0.7743470170108205,2.6016233219142113],\"z\":[82.49612567627555,-21.37781860102968,54.03258996476709,-101.94121923815948,93.86491160070331,108.34237592816422,-108.84575417660565,17.801359219658234,91.38751405332086,4.805249810401243,0.32934203732391865,-33.990972588135534,-38.41930444048961,-151.67697628990697,-17.20080233162335,72.39326575329328,-146.39424767885095,-24.426618356901805,-35.35291623973912,-44.17904244637171,187.11633953321015,73.83499576442705,6.287494316207768,52.31120247613612,107.29856692091165,154.4280773806399,23.249073571862375,-200.94329949282758,-46.88663000194538,2.4755466389290532,25.51907775893197,54.64819134196772,-105.72036971365209,15.744456671963505,52.78192851929625,38.6728121412513,-132.6814892206617,-151.43833540526936,-324.94902949082575,60.380142966885174,130.3846515542328,197.84799716408574,-20.598862509941547,148.61710801613023,72.95658732219388,94.47525326616997,-16.11384271550788,-55.39285243337019,-29.29796760451459,103.78840432916635,57.74867895912095,-145.95818679026655,329.25141260544615,-143.10442602207743,-87.91195395356866,-68.9039474415704,-111.67445102766,-99.52523273972454,-55.111371885967046,2.8769583278179756,57.68083170705422,-57.741511236847266,-242.68441890833887,-77.13903160119978,165.10697462657686,82.78129917118312,120.17195239558494,-10.765954107966216,-210.52198299642606,12.619171866687793,-209.7145440727808,-55.35549369790021,185.7199879155007,-35.64636463255316,86.34294560549904,-19.75605642268006,237.30971816232656,56.32908615428403,-44.07917426065612,9.3833149801726,33.18735159178068,-189.9405020531163,75.28874379639501,-27.034819017055124,178.30733810600802,176.54524047598463,-191.6654985226225,56.76152568185435,22.879885656068222,-34.64535383231188,249.51910557711454,108.96198544234439,231.16682343578626,123.29383325368839,207.81438172392825,-123.61485639353383,105.72486789335315,5.358062581117974,284.0447971813895,421.4135039054634],\"type\":\"scatter3d\"}],                        {\"template\":{\"data\":{\"histogram2dcontour\":[{\"type\":\"histogram2dcontour\",\"colorbar\":{\"outlinewidth\":0,\"ticks\":\"\"},\"colorscale\":[[0.0,\"#0d0887\"],[0.1111111111111111,\"#46039f\"],[0.2222222222222222,\"#7201a8\"],[0.3333333333333333,\"#9c179e\"],[0.4444444444444444,\"#bd3786\"],[0.5555555555555556,\"#d8576b\"],[0.6666666666666666,\"#ed7953\"],[0.7777777777777778,\"#fb9f3a\"],[0.8888888888888888,\"#fdca26\"],[1.0,\"#f0f921\"]]}],\"choropleth\":[{\"type\":\"choropleth\",\"colorbar\":{\"outlinewidth\":0,\"ticks\":\"\"}}],\"histogram2d\":[{\"type\":\"histogram2d\",\"colorbar\":{\"outlinewidth\":0,\"ticks\":\"\"},\"colorscale\":[[0.0,\"#0d0887\"],[0.1111111111111111,\"#46039f\"],[0.2222222222222222,\"#7201a8\"],[0.3333333333333333,\"#9c179e\"],[0.4444444444444444,\"#bd3786\"],[0.5555555555555556,\"#d8576b\"],[0.6666666666666666,\"#ed7953\"],[0.7777777777777778,\"#fb9f3a\"],[0.8888888888888888,\"#fdca26\"],[1.0,\"#f0f921\"]]}],\"heatmap\":[{\"type\":\"heatmap\",\"colorbar\":{\"outlinewidth\":0,\"ticks\":\"\"},\"colorscale\":[[0.0,\"#0d0887\"],[0.1111111111111111,\"#46039f\"],[0.2222222222222222,\"#7201a8\"],[0.3333333333333333,\"#9c179e\"],[0.4444444444444444,\"#bd3786\"],[0.5555555555555556,\"#d8576b\"],[0.6666666666666666,\"#ed7953\"],[0.7777777777777778,\"#fb9f3a\"],[0.8888888888888888,\"#fdca26\"],[1.0,\"#f0f921\"]]}],\"heatmapgl\":[{\"type\":\"heatmapgl\",\"colorbar\":{\"outlinewidth\":0,\"ticks\":\"\"},\"colorscale\":[[0.0,\"#0d0887\"],[0.1111111111111111,\"#46039f\"],[0.2222222222222222,\"#7201a8\"],[0.3333333333333333,\"#9c179e\"],[0.4444444444444444,\"#bd3786\"],[0.5555555555555556,\"#d8576b\"],[0.6666666666666666,\"#ed7953\"],[0.7777777777777778,\"#fb9f3a\"],[0.8888888888888888,\"#fdca26\"],[1.0,\"#f0f921\"]]}],\"contourcarpet\":[{\"type\":\"contourcarpet\",\"colorbar\":{\"outlinewidth\":0,\"ticks\":\"\"}}],\"contour\":[{\"type\":\"contour\",\"colorbar\":{\"outlinewidth\":0,\"ticks\":\"\"},\"colorscale\":[[0.0,\"#0d0887\"],[0.1111111111111111,\"#46039f\"],[0.2222222222222222,\"#7201a8\"],[0.3333333333333333,\"#9c179e\"],[0.4444444444444444,\"#bd3786\"],[0.5555555555555556,\"#d8576b\"],[0.6666666666666666,\"#ed7953\"],[0.7777777777777778,\"#fb9f3a\"],[0.8888888888888888,\"#fdca26\"],[1.0,\"#f0f921\"]]}],\"surface\":[{\"type\":\"surface\",\"colorbar\":{\"outlinewidth\":0,\"ticks\":\"\"},\"colorscale\":[[0.0,\"#0d0887\"],[0.1111111111111111,\"#46039f\"],[0.2222222222222222,\"#7201a8\"],[0.3333333333333333,\"#9c179e\"],[0.4444444444444444,\"#bd3786\"],[0.5555555555555556,\"#d8576b\"],[0.6666666666666666,\"#ed7953\"],[0.7777777777777778,\"#fb9f3a\"],[0.8888888888888888,\"#fdca26\"],[1.0,\"#f0f921\"]]}],\"mesh3d\":[{\"type\":\"mesh3d\",\"colorbar\":{\"outlinewidth\":0,\"ticks\":\"\"}}],\"scatter\":[{\"fillpattern\":{\"fillmode\":\"overlay\",\"size\":10,\"solidity\":0.2},\"type\":\"scatter\"}],\"parcoords\":[{\"type\":\"parcoords\",\"line\":{\"colorbar\":{\"outlinewidth\":0,\"ticks\":\"\"}}}],\"scatterpolargl\":[{\"type\":\"scatterpolargl\",\"marker\":{\"colorbar\":{\"outlinewidth\":0,\"ticks\":\"\"}}}],\"bar\":[{\"error_x\":{\"color\":\"#2a3f5f\"},\"error_y\":{\"color\":\"#2a3f5f\"},\"marker\":{\"line\":{\"color\":\"#E5ECF6\",\"width\":0.5},\"pattern\":{\"fillmode\":\"overlay\",\"size\":10,\"solidity\":0.2}},\"type\":\"bar\"}],\"scattergeo\":[{\"type\":\"scattergeo\",\"marker\":{\"colorbar\":{\"outlinewidth\":0,\"ticks\":\"\"}}}],\"scatterpolar\":[{\"type\":\"scatterpolar\",\"marker\":{\"colorbar\":{\"outlinewidth\":0,\"ticks\":\"\"}}}],\"histogram\":[{\"marker\":{\"pattern\":{\"fillmode\":\"overlay\",\"size\":10,\"solidity\":0.2}},\"type\":\"histogram\"}],\"scattergl\":[{\"type\":\"scattergl\",\"marker\":{\"colorbar\":{\"outlinewidth\":0,\"ticks\":\"\"}}}],\"scatter3d\":[{\"type\":\"scatter3d\",\"line\":{\"colorbar\":{\"outlinewidth\":0,\"ticks\":\"\"}},\"marker\":{\"colorbar\":{\"outlinewidth\":0,\"ticks\":\"\"}}}],\"scattermapbox\":[{\"type\":\"scattermapbox\",\"marker\":{\"colorbar\":{\"outlinewidth\":0,\"ticks\":\"\"}}}],\"scatterternary\":[{\"type\":\"scatterternary\",\"marker\":{\"colorbar\":{\"outlinewidth\":0,\"ticks\":\"\"}}}],\"scattercarpet\":[{\"type\":\"scattercarpet\",\"marker\":{\"colorbar\":{\"outlinewidth\":0,\"ticks\":\"\"}}}],\"carpet\":[{\"aaxis\":{\"endlinecolor\":\"#2a3f5f\",\"gridcolor\":\"white\",\"linecolor\":\"white\",\"minorgridcolor\":\"white\",\"startlinecolor\":\"#2a3f5f\"},\"baxis\":{\"endlinecolor\":\"#2a3f5f\",\"gridcolor\":\"white\",\"linecolor\":\"white\",\"minorgridcolor\":\"white\",\"startlinecolor\":\"#2a3f5f\"},\"type\":\"carpet\"}],\"table\":[{\"cells\":{\"fill\":{\"color\":\"#EBF0F8\"},\"line\":{\"color\":\"white\"}},\"header\":{\"fill\":{\"color\":\"#C8D4E3\"},\"line\":{\"color\":\"white\"}},\"type\":\"table\"}],\"barpolar\":[{\"marker\":{\"line\":{\"color\":\"#E5ECF6\",\"width\":0.5},\"pattern\":{\"fillmode\":\"overlay\",\"size\":10,\"solidity\":0.2}},\"type\":\"barpolar\"}],\"pie\":[{\"automargin\":true,\"type\":\"pie\"}]},\"layout\":{\"autotypenumbers\":\"strict\",\"colorway\":[\"#636efa\",\"#EF553B\",\"#00cc96\",\"#ab63fa\",\"#FFA15A\",\"#19d3f3\",\"#FF6692\",\"#B6E880\",\"#FF97FF\",\"#FECB52\"],\"font\":{\"color\":\"#2a3f5f\"},\"hovermode\":\"closest\",\"hoverlabel\":{\"align\":\"left\"},\"paper_bgcolor\":\"white\",\"plot_bgcolor\":\"#E5ECF6\",\"polar\":{\"bgcolor\":\"#E5ECF6\",\"angularaxis\":{\"gridcolor\":\"white\",\"linecolor\":\"white\",\"ticks\":\"\"},\"radialaxis\":{\"gridcolor\":\"white\",\"linecolor\":\"white\",\"ticks\":\"\"}},\"ternary\":{\"bgcolor\":\"#E5ECF6\",\"aaxis\":{\"gridcolor\":\"white\",\"linecolor\":\"white\",\"ticks\":\"\"},\"baxis\":{\"gridcolor\":\"white\",\"linecolor\":\"white\",\"ticks\":\"\"},\"caxis\":{\"gridcolor\":\"white\",\"linecolor\":\"white\",\"ticks\":\"\"}},\"coloraxis\":{\"colorbar\":{\"outlinewidth\":0,\"ticks\":\"\"}},\"colorscale\":{\"sequential\":[[0.0,\"#0d0887\"],[0.1111111111111111,\"#46039f\"],[0.2222222222222222,\"#7201a8\"],[0.3333333333333333,\"#9c179e\"],[0.4444444444444444,\"#bd3786\"],[0.5555555555555556,\"#d8576b\"],[0.6666666666666666,\"#ed7953\"],[0.7777777777777778,\"#fb9f3a\"],[0.8888888888888888,\"#fdca26\"],[1.0,\"#f0f921\"]],\"sequentialminus\":[[0.0,\"#0d0887\"],[0.1111111111111111,\"#46039f\"],[0.2222222222222222,\"#7201a8\"],[0.3333333333333333,\"#9c179e\"],[0.4444444444444444,\"#bd3786\"],[0.5555555555555556,\"#d8576b\"],[0.6666666666666666,\"#ed7953\"],[0.7777777777777778,\"#fb9f3a\"],[0.8888888888888888,\"#fdca26\"],[1.0,\"#f0f921\"]],\"diverging\":[[0,\"#8e0152\"],[0.1,\"#c51b7d\"],[0.2,\"#de77ae\"],[0.3,\"#f1b6da\"],[0.4,\"#fde0ef\"],[0.5,\"#f7f7f7\"],[0.6,\"#e6f5d0\"],[0.7,\"#b8e186\"],[0.8,\"#7fbc41\"],[0.9,\"#4d9221\"],[1,\"#276419\"]]},\"xaxis\":{\"gridcolor\":\"white\",\"linecolor\":\"white\",\"ticks\":\"\",\"title\":{\"standoff\":15},\"zerolinecolor\":\"white\",\"automargin\":true,\"zerolinewidth\":2},\"yaxis\":{\"gridcolor\":\"white\",\"linecolor\":\"white\",\"ticks\":\"\",\"title\":{\"standoff\":15},\"zerolinecolor\":\"white\",\"automargin\":true,\"zerolinewidth\":2},\"scene\":{\"xaxis\":{\"backgroundcolor\":\"#E5ECF6\",\"gridcolor\":\"white\",\"linecolor\":\"white\",\"showbackground\":true,\"ticks\":\"\",\"zerolinecolor\":\"white\",\"gridwidth\":2},\"yaxis\":{\"backgroundcolor\":\"#E5ECF6\",\"gridcolor\":\"white\",\"linecolor\":\"white\",\"showbackground\":true,\"ticks\":\"\",\"zerolinecolor\":\"white\",\"gridwidth\":2},\"zaxis\":{\"backgroundcolor\":\"#E5ECF6\",\"gridcolor\":\"white\",\"linecolor\":\"white\",\"showbackground\":true,\"ticks\":\"\",\"zerolinecolor\":\"white\",\"gridwidth\":2}},\"shapedefaults\":{\"line\":{\"color\":\"#2a3f5f\"}},\"annotationdefaults\":{\"arrowcolor\":\"#2a3f5f\",\"arrowhead\":0,\"arrowwidth\":1},\"geo\":{\"bgcolor\":\"white\",\"landcolor\":\"#E5ECF6\",\"subunitcolor\":\"white\",\"showland\":true,\"showlakes\":true,\"lakecolor\":\"white\"},\"title\":{\"x\":0.05},\"mapbox\":{\"style\":\"light\"}}},\"scene\":{\"domain\":{\"x\":[0.0,1.0],\"y\":[0.0,1.0]},\"xaxis\":{\"title\":{\"text\":\"feature1\"}},\"yaxis\":{\"title\":{\"text\":\"feature2\"}},\"zaxis\":{\"title\":{\"text\":\"target\"}}},\"legend\":{\"tracegroupgap\":0},\"margin\":{\"t\":60}},                        {\"responsive\": true}                    ).then(function(){\n",
       "                            \n",
       "var gd = document.getElementById('00b5ffd4-3ba0-4fee-be48-8ad0199ab1bd');\n",
       "var x = new MutationObserver(function (mutations, observer) {{\n",
       "        var display = window.getComputedStyle(gd).display;\n",
       "        if (!display || display === 'none') {{\n",
       "            console.log([gd, 'removed!']);\n",
       "            Plotly.purge(gd);\n",
       "            observer.disconnect();\n",
       "        }}\n",
       "}});\n",
       "\n",
       "// Listen for the removal of the full notebook cells\n",
       "var notebookContainer = gd.closest('#notebook-container');\n",
       "if (notebookContainer) {{\n",
       "    x.observe(notebookContainer, {childList: true});\n",
       "}}\n",
       "\n",
       "// Listen for the clearing of the current output cell\n",
       "var outputEl = gd.closest('.output');\n",
       "if (outputEl) {{\n",
       "    x.observe(outputEl, {childList: true});\n",
       "}}\n",
       "\n",
       "                        })                };                });            </script>        </div>"
      ]
     },
     "metadata": {},
     "output_type": "display_data"
    }
   ],
   "source": [
    "fig = px.scatter_3d(df, x='feature1', y='feature2', z='target')\n",
    "fig.show()"
   ]
  },
  {
   "cell_type": "code",
   "execution_count": 48,
   "id": "ba2441b2-1622-46d5-89a8-859eef2f6eaa",
   "metadata": {},
   "outputs": [],
   "source": [
    "\n",
    "from sklearn.model_selection import train_test_split\n",
    "X_train, X_test, y_train, y_test = train_test_split(X, y, test_size=0.2, random_state=3)"
   ]
  },
  {
   "cell_type": "code",
   "execution_count": 49,
   "id": "20e1aea3-5324-4178-85a8-9be46dde3f9e",
   "metadata": {},
   "outputs": [
    {
     "data": {
      "text/html": [
       "<style>#sk-container-id-6 {\n",
       "  /* Definition of color scheme common for light and dark mode */\n",
       "  --sklearn-color-text: black;\n",
       "  --sklearn-color-line: gray;\n",
       "  /* Definition of color scheme for unfitted estimators */\n",
       "  --sklearn-color-unfitted-level-0: #fff5e6;\n",
       "  --sklearn-color-unfitted-level-1: #f6e4d2;\n",
       "  --sklearn-color-unfitted-level-2: #ffe0b3;\n",
       "  --sklearn-color-unfitted-level-3: chocolate;\n",
       "  /* Definition of color scheme for fitted estimators */\n",
       "  --sklearn-color-fitted-level-0: #f0f8ff;\n",
       "  --sklearn-color-fitted-level-1: #d4ebff;\n",
       "  --sklearn-color-fitted-level-2: #b3dbfd;\n",
       "  --sklearn-color-fitted-level-3: cornflowerblue;\n",
       "\n",
       "  /* Specific color for light theme */\n",
       "  --sklearn-color-text-on-default-background: var(--sg-text-color, var(--theme-code-foreground, var(--jp-content-font-color1, black)));\n",
       "  --sklearn-color-background: var(--sg-background-color, var(--theme-background, var(--jp-layout-color0, white)));\n",
       "  --sklearn-color-border-box: var(--sg-text-color, var(--theme-code-foreground, var(--jp-content-font-color1, black)));\n",
       "  --sklearn-color-icon: #696969;\n",
       "\n",
       "  @media (prefers-color-scheme: dark) {\n",
       "    /* Redefinition of color scheme for dark theme */\n",
       "    --sklearn-color-text-on-default-background: var(--sg-text-color, var(--theme-code-foreground, var(--jp-content-font-color1, white)));\n",
       "    --sklearn-color-background: var(--sg-background-color, var(--theme-background, var(--jp-layout-color0, #111)));\n",
       "    --sklearn-color-border-box: var(--sg-text-color, var(--theme-code-foreground, var(--jp-content-font-color1, white)));\n",
       "    --sklearn-color-icon: #878787;\n",
       "  }\n",
       "}\n",
       "\n",
       "#sk-container-id-6 {\n",
       "  color: var(--sklearn-color-text);\n",
       "}\n",
       "\n",
       "#sk-container-id-6 pre {\n",
       "  padding: 0;\n",
       "}\n",
       "\n",
       "#sk-container-id-6 input.sk-hidden--visually {\n",
       "  border: 0;\n",
       "  clip: rect(1px 1px 1px 1px);\n",
       "  clip: rect(1px, 1px, 1px, 1px);\n",
       "  height: 1px;\n",
       "  margin: -1px;\n",
       "  overflow: hidden;\n",
       "  padding: 0;\n",
       "  position: absolute;\n",
       "  width: 1px;\n",
       "}\n",
       "\n",
       "#sk-container-id-6 div.sk-dashed-wrapped {\n",
       "  border: 1px dashed var(--sklearn-color-line);\n",
       "  margin: 0 0.4em 0.5em 0.4em;\n",
       "  box-sizing: border-box;\n",
       "  padding-bottom: 0.4em;\n",
       "  background-color: var(--sklearn-color-background);\n",
       "}\n",
       "\n",
       "#sk-container-id-6 div.sk-container {\n",
       "  /* jupyter's `normalize.less` sets `[hidden] { display: none; }`\n",
       "     but bootstrap.min.css set `[hidden] { display: none !important; }`\n",
       "     so we also need the `!important` here to be able to override the\n",
       "     default hidden behavior on the sphinx rendered scikit-learn.org.\n",
       "     See: https://github.com/scikit-learn/scikit-learn/issues/21755 */\n",
       "  display: inline-block !important;\n",
       "  position: relative;\n",
       "}\n",
       "\n",
       "#sk-container-id-6 div.sk-text-repr-fallback {\n",
       "  display: none;\n",
       "}\n",
       "\n",
       "div.sk-parallel-item,\n",
       "div.sk-serial,\n",
       "div.sk-item {\n",
       "  /* draw centered vertical line to link estimators */\n",
       "  background-image: linear-gradient(var(--sklearn-color-text-on-default-background), var(--sklearn-color-text-on-default-background));\n",
       "  background-size: 2px 100%;\n",
       "  background-repeat: no-repeat;\n",
       "  background-position: center center;\n",
       "}\n",
       "\n",
       "/* Parallel-specific style estimator block */\n",
       "\n",
       "#sk-container-id-6 div.sk-parallel-item::after {\n",
       "  content: \"\";\n",
       "  width: 100%;\n",
       "  border-bottom: 2px solid var(--sklearn-color-text-on-default-background);\n",
       "  flex-grow: 1;\n",
       "}\n",
       "\n",
       "#sk-container-id-6 div.sk-parallel {\n",
       "  display: flex;\n",
       "  align-items: stretch;\n",
       "  justify-content: center;\n",
       "  background-color: var(--sklearn-color-background);\n",
       "  position: relative;\n",
       "}\n",
       "\n",
       "#sk-container-id-6 div.sk-parallel-item {\n",
       "  display: flex;\n",
       "  flex-direction: column;\n",
       "}\n",
       "\n",
       "#sk-container-id-6 div.sk-parallel-item:first-child::after {\n",
       "  align-self: flex-end;\n",
       "  width: 50%;\n",
       "}\n",
       "\n",
       "#sk-container-id-6 div.sk-parallel-item:last-child::after {\n",
       "  align-self: flex-start;\n",
       "  width: 50%;\n",
       "}\n",
       "\n",
       "#sk-container-id-6 div.sk-parallel-item:only-child::after {\n",
       "  width: 0;\n",
       "}\n",
       "\n",
       "/* Serial-specific style estimator block */\n",
       "\n",
       "#sk-container-id-6 div.sk-serial {\n",
       "  display: flex;\n",
       "  flex-direction: column;\n",
       "  align-items: center;\n",
       "  background-color: var(--sklearn-color-background);\n",
       "  padding-right: 1em;\n",
       "  padding-left: 1em;\n",
       "}\n",
       "\n",
       "\n",
       "/* Toggleable style: style used for estimator/Pipeline/ColumnTransformer box that is\n",
       "clickable and can be expanded/collapsed.\n",
       "- Pipeline and ColumnTransformer use this feature and define the default style\n",
       "- Estimators will overwrite some part of the style using the `sk-estimator` class\n",
       "*/\n",
       "\n",
       "/* Pipeline and ColumnTransformer style (default) */\n",
       "\n",
       "#sk-container-id-6 div.sk-toggleable {\n",
       "  /* Default theme specific background. It is overwritten whether we have a\n",
       "  specific estimator or a Pipeline/ColumnTransformer */\n",
       "  background-color: var(--sklearn-color-background);\n",
       "}\n",
       "\n",
       "/* Toggleable label */\n",
       "#sk-container-id-6 label.sk-toggleable__label {\n",
       "  cursor: pointer;\n",
       "  display: block;\n",
       "  width: 100%;\n",
       "  margin-bottom: 0;\n",
       "  padding: 0.5em;\n",
       "  box-sizing: border-box;\n",
       "  text-align: center;\n",
       "}\n",
       "\n",
       "#sk-container-id-6 label.sk-toggleable__label-arrow:before {\n",
       "  /* Arrow on the left of the label */\n",
       "  content: \"▸\";\n",
       "  float: left;\n",
       "  margin-right: 0.25em;\n",
       "  color: var(--sklearn-color-icon);\n",
       "}\n",
       "\n",
       "#sk-container-id-6 label.sk-toggleable__label-arrow:hover:before {\n",
       "  color: var(--sklearn-color-text);\n",
       "}\n",
       "\n",
       "/* Toggleable content - dropdown */\n",
       "\n",
       "#sk-container-id-6 div.sk-toggleable__content {\n",
       "  max-height: 0;\n",
       "  max-width: 0;\n",
       "  overflow: hidden;\n",
       "  text-align: left;\n",
       "  /* unfitted */\n",
       "  background-color: var(--sklearn-color-unfitted-level-0);\n",
       "}\n",
       "\n",
       "#sk-container-id-6 div.sk-toggleable__content.fitted {\n",
       "  /* fitted */\n",
       "  background-color: var(--sklearn-color-fitted-level-0);\n",
       "}\n",
       "\n",
       "#sk-container-id-6 div.sk-toggleable__content pre {\n",
       "  margin: 0.2em;\n",
       "  border-radius: 0.25em;\n",
       "  color: var(--sklearn-color-text);\n",
       "  /* unfitted */\n",
       "  background-color: var(--sklearn-color-unfitted-level-0);\n",
       "}\n",
       "\n",
       "#sk-container-id-6 div.sk-toggleable__content.fitted pre {\n",
       "  /* unfitted */\n",
       "  background-color: var(--sklearn-color-fitted-level-0);\n",
       "}\n",
       "\n",
       "#sk-container-id-6 input.sk-toggleable__control:checked~div.sk-toggleable__content {\n",
       "  /* Expand drop-down */\n",
       "  max-height: 200px;\n",
       "  max-width: 100%;\n",
       "  overflow: auto;\n",
       "}\n",
       "\n",
       "#sk-container-id-6 input.sk-toggleable__control:checked~label.sk-toggleable__label-arrow:before {\n",
       "  content: \"▾\";\n",
       "}\n",
       "\n",
       "/* Pipeline/ColumnTransformer-specific style */\n",
       "\n",
       "#sk-container-id-6 div.sk-label input.sk-toggleable__control:checked~label.sk-toggleable__label {\n",
       "  color: var(--sklearn-color-text);\n",
       "  background-color: var(--sklearn-color-unfitted-level-2);\n",
       "}\n",
       "\n",
       "#sk-container-id-6 div.sk-label.fitted input.sk-toggleable__control:checked~label.sk-toggleable__label {\n",
       "  background-color: var(--sklearn-color-fitted-level-2);\n",
       "}\n",
       "\n",
       "/* Estimator-specific style */\n",
       "\n",
       "/* Colorize estimator box */\n",
       "#sk-container-id-6 div.sk-estimator input.sk-toggleable__control:checked~label.sk-toggleable__label {\n",
       "  /* unfitted */\n",
       "  background-color: var(--sklearn-color-unfitted-level-2);\n",
       "}\n",
       "\n",
       "#sk-container-id-6 div.sk-estimator.fitted input.sk-toggleable__control:checked~label.sk-toggleable__label {\n",
       "  /* fitted */\n",
       "  background-color: var(--sklearn-color-fitted-level-2);\n",
       "}\n",
       "\n",
       "#sk-container-id-6 div.sk-label label.sk-toggleable__label,\n",
       "#sk-container-id-6 div.sk-label label {\n",
       "  /* The background is the default theme color */\n",
       "  color: var(--sklearn-color-text-on-default-background);\n",
       "}\n",
       "\n",
       "/* On hover, darken the color of the background */\n",
       "#sk-container-id-6 div.sk-label:hover label.sk-toggleable__label {\n",
       "  color: var(--sklearn-color-text);\n",
       "  background-color: var(--sklearn-color-unfitted-level-2);\n",
       "}\n",
       "\n",
       "/* Label box, darken color on hover, fitted */\n",
       "#sk-container-id-6 div.sk-label.fitted:hover label.sk-toggleable__label.fitted {\n",
       "  color: var(--sklearn-color-text);\n",
       "  background-color: var(--sklearn-color-fitted-level-2);\n",
       "}\n",
       "\n",
       "/* Estimator label */\n",
       "\n",
       "#sk-container-id-6 div.sk-label label {\n",
       "  font-family: monospace;\n",
       "  font-weight: bold;\n",
       "  display: inline-block;\n",
       "  line-height: 1.2em;\n",
       "}\n",
       "\n",
       "#sk-container-id-6 div.sk-label-container {\n",
       "  text-align: center;\n",
       "}\n",
       "\n",
       "/* Estimator-specific */\n",
       "#sk-container-id-6 div.sk-estimator {\n",
       "  font-family: monospace;\n",
       "  border: 1px dotted var(--sklearn-color-border-box);\n",
       "  border-radius: 0.25em;\n",
       "  box-sizing: border-box;\n",
       "  margin-bottom: 0.5em;\n",
       "  /* unfitted */\n",
       "  background-color: var(--sklearn-color-unfitted-level-0);\n",
       "}\n",
       "\n",
       "#sk-container-id-6 div.sk-estimator.fitted {\n",
       "  /* fitted */\n",
       "  background-color: var(--sklearn-color-fitted-level-0);\n",
       "}\n",
       "\n",
       "/* on hover */\n",
       "#sk-container-id-6 div.sk-estimator:hover {\n",
       "  /* unfitted */\n",
       "  background-color: var(--sklearn-color-unfitted-level-2);\n",
       "}\n",
       "\n",
       "#sk-container-id-6 div.sk-estimator.fitted:hover {\n",
       "  /* fitted */\n",
       "  background-color: var(--sklearn-color-fitted-level-2);\n",
       "}\n",
       "\n",
       "/* Specification for estimator info (e.g. \"i\" and \"?\") */\n",
       "\n",
       "/* Common style for \"i\" and \"?\" */\n",
       "\n",
       ".sk-estimator-doc-link,\n",
       "a:link.sk-estimator-doc-link,\n",
       "a:visited.sk-estimator-doc-link {\n",
       "  float: right;\n",
       "  font-size: smaller;\n",
       "  line-height: 1em;\n",
       "  font-family: monospace;\n",
       "  background-color: var(--sklearn-color-background);\n",
       "  border-radius: 1em;\n",
       "  height: 1em;\n",
       "  width: 1em;\n",
       "  text-decoration: none !important;\n",
       "  margin-left: 1ex;\n",
       "  /* unfitted */\n",
       "  border: var(--sklearn-color-unfitted-level-1) 1pt solid;\n",
       "  color: var(--sklearn-color-unfitted-level-1);\n",
       "}\n",
       "\n",
       ".sk-estimator-doc-link.fitted,\n",
       "a:link.sk-estimator-doc-link.fitted,\n",
       "a:visited.sk-estimator-doc-link.fitted {\n",
       "  /* fitted */\n",
       "  border: var(--sklearn-color-fitted-level-1) 1pt solid;\n",
       "  color: var(--sklearn-color-fitted-level-1);\n",
       "}\n",
       "\n",
       "/* On hover */\n",
       "div.sk-estimator:hover .sk-estimator-doc-link:hover,\n",
       ".sk-estimator-doc-link:hover,\n",
       "div.sk-label-container:hover .sk-estimator-doc-link:hover,\n",
       ".sk-estimator-doc-link:hover {\n",
       "  /* unfitted */\n",
       "  background-color: var(--sklearn-color-unfitted-level-3);\n",
       "  color: var(--sklearn-color-background);\n",
       "  text-decoration: none;\n",
       "}\n",
       "\n",
       "div.sk-estimator.fitted:hover .sk-estimator-doc-link.fitted:hover,\n",
       ".sk-estimator-doc-link.fitted:hover,\n",
       "div.sk-label-container:hover .sk-estimator-doc-link.fitted:hover,\n",
       ".sk-estimator-doc-link.fitted:hover {\n",
       "  /* fitted */\n",
       "  background-color: var(--sklearn-color-fitted-level-3);\n",
       "  color: var(--sklearn-color-background);\n",
       "  text-decoration: none;\n",
       "}\n",
       "\n",
       "/* Span, style for the box shown on hovering the info icon */\n",
       ".sk-estimator-doc-link span {\n",
       "  display: none;\n",
       "  z-index: 9999;\n",
       "  position: relative;\n",
       "  font-weight: normal;\n",
       "  right: .2ex;\n",
       "  padding: .5ex;\n",
       "  margin: .5ex;\n",
       "  width: min-content;\n",
       "  min-width: 20ex;\n",
       "  max-width: 50ex;\n",
       "  color: var(--sklearn-color-text);\n",
       "  box-shadow: 2pt 2pt 4pt #999;\n",
       "  /* unfitted */\n",
       "  background: var(--sklearn-color-unfitted-level-0);\n",
       "  border: .5pt solid var(--sklearn-color-unfitted-level-3);\n",
       "}\n",
       "\n",
       ".sk-estimator-doc-link.fitted span {\n",
       "  /* fitted */\n",
       "  background: var(--sklearn-color-fitted-level-0);\n",
       "  border: var(--sklearn-color-fitted-level-3);\n",
       "}\n",
       "\n",
       ".sk-estimator-doc-link:hover span {\n",
       "  display: block;\n",
       "}\n",
       "\n",
       "/* \"?\"-specific style due to the `<a>` HTML tag */\n",
       "\n",
       "#sk-container-id-6 a.estimator_doc_link {\n",
       "  float: right;\n",
       "  font-size: 1rem;\n",
       "  line-height: 1em;\n",
       "  font-family: monospace;\n",
       "  background-color: var(--sklearn-color-background);\n",
       "  border-radius: 1rem;\n",
       "  height: 1rem;\n",
       "  width: 1rem;\n",
       "  text-decoration: none;\n",
       "  /* unfitted */\n",
       "  color: var(--sklearn-color-unfitted-level-1);\n",
       "  border: var(--sklearn-color-unfitted-level-1) 1pt solid;\n",
       "}\n",
       "\n",
       "#sk-container-id-6 a.estimator_doc_link.fitted {\n",
       "  /* fitted */\n",
       "  border: var(--sklearn-color-fitted-level-1) 1pt solid;\n",
       "  color: var(--sklearn-color-fitted-level-1);\n",
       "}\n",
       "\n",
       "/* On hover */\n",
       "#sk-container-id-6 a.estimator_doc_link:hover {\n",
       "  /* unfitted */\n",
       "  background-color: var(--sklearn-color-unfitted-level-3);\n",
       "  color: var(--sklearn-color-background);\n",
       "  text-decoration: none;\n",
       "}\n",
       "\n",
       "#sk-container-id-6 a.estimator_doc_link.fitted:hover {\n",
       "  /* fitted */\n",
       "  background-color: var(--sklearn-color-fitted-level-3);\n",
       "}\n",
       "</style><div id=\"sk-container-id-6\" class=\"sk-top-container\"><div class=\"sk-text-repr-fallback\"><pre>LinearRegression()</pre><b>In a Jupyter environment, please rerun this cell to show the HTML representation or trust the notebook. <br />On GitHub, the HTML representation is unable to render, please try loading this page with nbviewer.org.</b></div><div class=\"sk-container\" hidden><div class=\"sk-item\"><div class=\"sk-estimator fitted sk-toggleable\"><input class=\"sk-toggleable__control sk-hidden--visually\" id=\"sk-estimator-id-6\" type=\"checkbox\" checked><label for=\"sk-estimator-id-6\" class=\"sk-toggleable__label fitted sk-toggleable__label-arrow fitted\">&nbsp;&nbsp;LinearRegression<a class=\"sk-estimator-doc-link fitted\" rel=\"noreferrer\" target=\"_blank\" href=\"https://scikit-learn.org/1.4/modules/generated/sklearn.linear_model.LinearRegression.html\">?<span>Documentation for LinearRegression</span></a><span class=\"sk-estimator-doc-link fitted\">i<span>Fitted</span></span></label><div class=\"sk-toggleable__content fitted\"><pre>LinearRegression()</pre></div> </div></div></div></div>"
      ],
      "text/plain": [
       "LinearRegression()"
      ]
     },
     "execution_count": 49,
     "metadata": {},
     "output_type": "execute_result"
    }
   ],
   "source": [
    "from sklearn.linear_model import LinearRegression\n",
    "lr = LinearRegression()\n",
    "lr.fit(X_train, y_train)"
   ]
  },
  {
   "cell_type": "code",
   "execution_count": 50,
   "id": "773ba58f-f79a-44c2-81a4-10ba292c4c1f",
   "metadata": {},
   "outputs": [],
   "source": [
    "y_pred = lr.predict(X_test)"
   ]
  },
  {
   "cell_type": "code",
   "execution_count": 51,
   "id": "36490ccd-8623-4d46-80ca-71fd538f4ada",
   "metadata": {},
   "outputs": [
    {
     "name": "stdout",
     "output_type": "stream",
     "text": [
      "MAE :  37.35565146973744\n",
      "MSE :  2157.0092996530166\n",
      "R2 Score:  0.7173797317565003\n"
     ]
    }
   ],
   "source": [
    "print(\"MAE : \", mean_absolute_error(y_test, y_pred))\n",
    "print(\"MSE : \", mean_squared_error(y_test, y_pred))\n",
    "print(\"R2 Score: \", r2_score(y_test, y_pred))"
   ]
  },
  {
   "cell_type": "code",
   "execution_count": null,
   "id": "ec595c93-0062-4513-986e-e0061700eda7",
   "metadata": {},
   "outputs": [],
   "source": []
  },
  {
   "cell_type": "markdown",
   "id": "69a5932e-4e82-42e7-8585-1d9ea79a0a3d",
   "metadata": {},
   "source": [
    "### below code is to hard its like a jugad only understand concept of graph"
   ]
  },
  {
   "cell_type": "code",
   "execution_count": 60,
   "id": "aef329b4-bf4d-4a28-b3b6-8261e7d98cfb",
   "metadata": {},
   "outputs": [],
   "source": [
    "x = np.linspace(-5, 5, 10)\n",
    "y = np.linspace(-5, 5, 10)\n",
    "xGrid, yGrid = np.meshgrid(y, x)\n",
    "\n",
    "z_final = lr.predict(final).reshape(10,10)\n",
    "\n",
    "z = z_final\n",
    "\n",
    "final = np.vstack((xGrid.ravel().reshape(1,100),yGrid.ravel().reshape(1,100))).T\n",
    "     "
   ]
  },
  {
   "cell_type": "code",
   "execution_count": 61,
   "id": "b97d36e0-ecb6-4fdb-8c9a-03db587cf862",
   "metadata": {},
   "outputs": [
    {
     "data": {
      "application/vnd.plotly.v1+json": {
       "config": {
        "plotlyServerURL": "https://plot.ly"
       },
       "data": [
        {
         "hovertemplate": "feature1=%{x}<br>feature2=%{y}<br>target=%{z}<extra></extra>",
         "legendgroup": "",
         "marker": {
          "color": "#636efa",
          "symbol": "circle"
         },
         "mode": "markers",
         "name": "",
         "scene": "scene",
         "showlegend": false,
         "type": "scatter3d",
         "x": [
          0.2781407394040055,
          -0.5635840265058059,
          -1.267759040780249,
          -0.9759349232251411,
          0.49086775055969983,
          0.06936880933023985,
          0.0716575573014017,
          1.2717496542525804,
          0.9437263908133028,
          0.6026745868598421,
          0.25040058141317084,
          -0.5836194861297086,
          0.31422336401526024,
          -0.7196904599344158,
          1.1529168923056654,
          1.0373976766479336,
          -1.064581470974407,
          -0.2322808554749028,
          -1.200351899826103,
          0.09878295180606492,
          0.6346454815486634,
          -0.5871640860721099,
          0.8157017280970176,
          1.7384583320320939,
          0.8400946292230073,
          2.631073189903033,
          0.13125786801108755,
          -0.9936054189904594,
          0.859124205931587,
          -0.19298999678877485,
          -0.7139532186943869,
          0.34093874994310963,
          0.10522135114839445,
          -0.6299579644877495,
          0.12320957784567053,
          0.17205506787526736,
          -2.46173654657784,
          -1.7709105362765465,
          -2.2210261460912264,
          0.43303351660739736,
          1.2053651224438409,
          0.6787999258227848,
          0.35706002282781024,
          1.0340564892519646,
          -0.5668071304492077,
          -0.19508361653820902,
          0.7391508371157174,
          0.45154590350011603,
          -0.40642751088954165,
          0.6973351327258832,
          1.5426380625725105,
          0.18693180518139524,
          0.7050074531504269,
          -0.9207622846928091,
          -0.7823808850091747,
          -1.3670774476333194,
          -0.81285418649095,
          -0.6310724702832534,
          0.5839660613042248,
          -0.6869711018925744,
          0.6208717085862308,
          0.2519748804676733,
          -2.055360341309257,
          -0.34426197684821885,
          0.2955341826963646,
          -1.1084147616331887,
          0.010358695718015285,
          0.17559949131181762,
          -1.5437093779871995,
          0.13118987990318154,
          -1.5475091027060384,
          -1.103729832356129,
          1.190720152257798,
          0.55371055168797,
          0.48498479790067184,
          -1.324747063915812,
          1.1372282891511651,
          -0.3613532725794906,
          0.1697263351874196,
          0.8251810858667213,
          0.3462474817183834,
          -0.6050493901418441,
          0.05378768497479427,
          0.029504832648421776,
          0.4824484417783393,
          0.36081423138573576,
          -1.6222867602961688,
          0.7173275608210018,
          0.5983674304730029,
          -0.09713326420049795,
          1.8964403875424942,
          -0.04522575991917249,
          1.6438882363903342,
          1.597016755261902,
          2.240888111619055,
          0.566570528428044,
          1.051621590382758,
          -0.9286176271470742,
          1.9899057647594878,
          1.6042964623428213
         ],
         "y": [
          -0.3972053688269867,
          0.27107934282408525,
          2.5189157104537685,
          0.08161816901577769,
          0.7536859330713931,
          0.845377608962402,
          -1.9371627307852093,
          -1.046315650267398,
          -0.3623727787449826,
          -0.14499465015495774,
          0.2534876072471677,
          -0.03906208889218445,
          -0.8393276002336755,
          -1.1934352392472378,
          -2.079765334895109,
          0.6419492645512683,
          -1.4381767880301617,
          0.12962886446302085,
          1.260621731976962,
          -0.7694829234765636,
          1.4672326933810342,
          2.291714617102625,
          -1.0872695305353122,
          -1.3887158847947025,
          0.27698724714194806,
          -1.975574354835797,
          -0.7399111042279612,
          -0.41765309959424124,
          -1.4075316854115327,
          1.118913038512196,
          0.9627754574900094,
          -0.9884551364276166,
          -1.3965880127659873,
          0.31570481230941777,
          -0.6423283328485822,
          -0.2790389613805724,
          0.22834073759537288,
          -0.14516229179830897,
          -1.4450894479114496,
          0.4661728799708747,
          0.12364824758880896,
          1.920120852286527,
          0.20634157613129037,
          -0.5361635287315818,
          1.559554197427379,
          2.0294489627685683,
          -0.320884740811216,
          -1.415544144728935,
          0.3122370800816152,
          0.14449402222127317,
          -0.4970008854031726,
          -1.3749969677678424,
          2.860928723716111,
          -0.7192077012578566,
          -0.25788427776713296,
          0.1530653294942147,
          -0.46196154698323716,
          -0.0953972886972723,
          -1.8829391300857474,
          0.9414498508027473,
          0.5928006440898781,
          -0.831561651294708,
          0.4371930177927706,
          0.38174834312529077,
          1.8422121688603699,
          2.21800589680416,
          0.017514843818767025,
          0.44284119808587247,
          -0.42998276904946675,
          -0.23990060929827306,
          -1.6178686057690115,
          0.7927830108771473,
          0.4485887896601841,
          -0.9301539617676376,
          1.0556926438501335,
          1.4391703267923248,
          1.142968605409278,
          0.06333981066318325,
          -0.10473051206386975,
          -1.745973986375225,
          0.16787635951973057,
          -1.4314303803042385,
          0.28395804455548984,
          -0.6969264082826567,
          1.324564400479832,
          1.390322016620873,
          0.08220271079645608,
          -0.24254548775445148,
          -0.40370616976075663,
          -1.3409518667960434,
          0.66155988877515,
          1.2774022000795016,
          0.7787279550246198,
          0.16566145048693878,
          0.26816985648052694,
          -2.6438984696612517,
          0.061661043627488366,
          0.9226231037978103,
          0.7743470170108205,
          2.6016233219142113
         ],
         "z": [
          82.49612567627555,
          -21.37781860102968,
          54.03258996476709,
          -101.94121923815948,
          93.86491160070331,
          108.34237592816422,
          -108.84575417660565,
          17.801359219658234,
          91.38751405332086,
          4.805249810401243,
          0.32934203732391865,
          -33.990972588135534,
          -38.41930444048961,
          -151.67697628990697,
          -17.20080233162335,
          72.39326575329328,
          -146.39424767885095,
          -24.426618356901805,
          -35.35291623973912,
          -44.17904244637171,
          187.11633953321015,
          73.83499576442705,
          6.287494316207768,
          52.31120247613612,
          107.29856692091165,
          154.4280773806399,
          23.249073571862375,
          -200.94329949282758,
          -46.88663000194538,
          2.4755466389290532,
          25.51907775893197,
          54.64819134196772,
          -105.72036971365209,
          15.744456671963505,
          52.78192851929625,
          38.6728121412513,
          -132.6814892206617,
          -151.43833540526936,
          -324.94902949082575,
          60.380142966885174,
          130.3846515542328,
          197.84799716408574,
          -20.598862509941547,
          148.61710801613023,
          72.95658732219388,
          94.47525326616997,
          -16.11384271550788,
          -55.39285243337019,
          -29.29796760451459,
          103.78840432916635,
          57.74867895912095,
          -145.95818679026655,
          329.25141260544615,
          -143.10442602207743,
          -87.91195395356866,
          -68.9039474415704,
          -111.67445102766,
          -99.52523273972454,
          -55.111371885967046,
          2.8769583278179756,
          57.68083170705422,
          -57.741511236847266,
          -242.68441890833887,
          -77.13903160119978,
          165.10697462657686,
          82.78129917118312,
          120.17195239558494,
          -10.765954107966216,
          -210.52198299642606,
          12.619171866687793,
          -209.7145440727808,
          -55.35549369790021,
          185.7199879155007,
          -35.64636463255316,
          86.34294560549904,
          -19.75605642268006,
          237.30971816232656,
          56.32908615428403,
          -44.07917426065612,
          9.3833149801726,
          33.18735159178068,
          -189.9405020531163,
          75.28874379639501,
          -27.034819017055124,
          178.30733810600802,
          176.54524047598463,
          -191.6654985226225,
          56.76152568185435,
          22.879885656068222,
          -34.64535383231188,
          249.51910557711454,
          108.96198544234439,
          231.16682343578626,
          123.29383325368839,
          207.81438172392825,
          -123.61485639353383,
          105.72486789335315,
          5.358062581117974,
          284.0447971813895,
          421.4135039054634
         ]
        },
        {
         "type": "surface",
         "x": [
          -5,
          -3.888888888888889,
          -2.7777777777777777,
          -1.6666666666666665,
          -0.5555555555555554,
          0.5555555555555554,
          1.666666666666667,
          2.7777777777777786,
          3.8888888888888893,
          5
         ],
         "y": [
          -5,
          -3.888888888888889,
          -2.7777777777777777,
          -1.6666666666666665,
          -0.5555555555555554,
          0.5555555555555554,
          1.666666666666667,
          2.7777777777777786,
          3.8888888888888893,
          5
         ],
         "z": [
          [
           -851.6703075369352,
           -741.94294908345,
           -632.2155906299649,
           -522.4882321764799,
           -412.76087372299463,
           -303.03351526950956,
           -193.3061568160244,
           -83.57879836253926,
           26.1485600909458,
           135.87591854443093
          ],
          [
           -770.5637301476479,
           -660.8363716941628,
           -551.1090132406778,
           -441.38165478719253,
           -331.6542963337074,
           -221.92693788022234,
           -112.19957942673719,
           -2.4722209732520426,
           107.25513748023303,
           216.98249593371816
          ],
          [
           -689.4571527583607,
           -579.7297943048757,
           -470.00243585139043,
           -360.27507739790536,
           -250.54771894442018,
           -140.82036049093514,
           -31.09300203745,
           78.63435641603516,
           188.36171486952023,
           298.0890733230054
          ],
          [
           -608.3505753690736,
           -498.62321691558833,
           -388.8958584621032,
           -279.1685000086181,
           -169.44114155513296,
           -59.71378310164791,
           50.01357535183724,
           159.7409338053224,
           269.4682922588075,
           379.1956507122926
          ],
          [
           -527.2439979797863,
           -417.5166395263011,
           -307.789281072816,
           -198.06192261933086,
           -88.33456416584576,
           21.392794287639312,
           131.12015274112446,
           240.84751119460964,
           350.5748696480947,
           460.30222810157983
          ],
          [
           -446.13742059049906,
           -336.41006213701394,
           -226.6827036835288,
           -116.95534523004369,
           -7.227986776558559,
           102.4993716769265,
           212.22673013041168,
           321.9540885838968,
           431.6814470373819,
           541.4088054908669
          ],
          [
           -365.0308432012118,
           -255.30348474772666,
           -145.57612629424153,
           -35.848767840756416,
           73.87859061272871,
           183.60594906621378,
           293.33330751969896,
           403.0606659731841,
           512.7880244266692,
           622.5153828801542
          ],
          [
           -283.9242658119245,
           -174.1969073584394,
           -64.46954890495428,
           45.25780954853084,
           154.98516800201597,
           264.71252645550106,
           374.4398849089862,
           484.1672433624713,
           593.8946018159563,
           703.6219602694415
          ],
          [
           -202.81768842263733,
           -93.09032996915221,
           16.63702848433291,
           126.36438693781804,
           236.09174539130316,
           345.81910384478823,
           455.5464622982734,
           565.2738207517584,
           675.0011792052435,
           784.7285376587287
          ],
          [
           -121.71111103335016,
           -11.983752579865047,
           97.74360587362008,
           207.4709643271052,
           317.19832278059033,
           426.9256812340754,
           536.6530396875605,
           646.3803981410456,
           756.1077565945307,
           865.8351150480158
          ]
         ]
        }
       ],
       "layout": {
        "autosize": true,
        "legend": {
         "tracegroupgap": 0
        },
        "margin": {
         "t": 60
        },
        "scene": {
         "aspectmode": "auto",
         "aspectratio": {
          "x": 1,
          "y": 1,
          "z": 1
         },
         "camera": {
          "center": {
           "x": 0,
           "y": 0,
           "z": 0
          },
          "eye": {
           "x": 0.7451078228392535,
           "y": 0.7451078228392533,
           "z": 0.745107822839253
          },
          "projection": {
           "type": "perspective"
          },
          "up": {
           "x": -0.6734084930302031,
           "y": -0.06315916908589203,
           "z": 0.7365676621160955
          }
         },
         "domain": {
          "x": [
           0,
           1
          ],
          "y": [
           0,
           1
          ]
         },
         "xaxis": {
          "title": {
           "text": "feature1"
          },
          "type": "linear"
         },
         "yaxis": {
          "title": {
           "text": "feature2"
          },
          "type": "linear"
         },
         "zaxis": {
          "title": {
           "text": "target"
          },
          "type": "linear"
         }
        },
        "template": {
         "data": {
          "bar": [
           {
            "error_x": {
             "color": "#2a3f5f"
            },
            "error_y": {
             "color": "#2a3f5f"
            },
            "marker": {
             "line": {
              "color": "#E5ECF6",
              "width": 0.5
             },
             "pattern": {
              "fillmode": "overlay",
              "size": 10,
              "solidity": 0.2
             }
            },
            "type": "bar"
           }
          ],
          "barpolar": [
           {
            "marker": {
             "line": {
              "color": "#E5ECF6",
              "width": 0.5
             },
             "pattern": {
              "fillmode": "overlay",
              "size": 10,
              "solidity": 0.2
             }
            },
            "type": "barpolar"
           }
          ],
          "carpet": [
           {
            "aaxis": {
             "endlinecolor": "#2a3f5f",
             "gridcolor": "white",
             "linecolor": "white",
             "minorgridcolor": "white",
             "startlinecolor": "#2a3f5f"
            },
            "baxis": {
             "endlinecolor": "#2a3f5f",
             "gridcolor": "white",
             "linecolor": "white",
             "minorgridcolor": "white",
             "startlinecolor": "#2a3f5f"
            },
            "type": "carpet"
           }
          ],
          "choropleth": [
           {
            "colorbar": {
             "outlinewidth": 0,
             "ticks": ""
            },
            "type": "choropleth"
           }
          ],
          "contour": [
           {
            "colorbar": {
             "outlinewidth": 0,
             "ticks": ""
            },
            "colorscale": [
             [
              0,
              "#0d0887"
             ],
             [
              0.1111111111111111,
              "#46039f"
             ],
             [
              0.2222222222222222,
              "#7201a8"
             ],
             [
              0.3333333333333333,
              "#9c179e"
             ],
             [
              0.4444444444444444,
              "#bd3786"
             ],
             [
              0.5555555555555556,
              "#d8576b"
             ],
             [
              0.6666666666666666,
              "#ed7953"
             ],
             [
              0.7777777777777778,
              "#fb9f3a"
             ],
             [
              0.8888888888888888,
              "#fdca26"
             ],
             [
              1,
              "#f0f921"
             ]
            ],
            "type": "contour"
           }
          ],
          "contourcarpet": [
           {
            "colorbar": {
             "outlinewidth": 0,
             "ticks": ""
            },
            "type": "contourcarpet"
           }
          ],
          "heatmap": [
           {
            "colorbar": {
             "outlinewidth": 0,
             "ticks": ""
            },
            "colorscale": [
             [
              0,
              "#0d0887"
             ],
             [
              0.1111111111111111,
              "#46039f"
             ],
             [
              0.2222222222222222,
              "#7201a8"
             ],
             [
              0.3333333333333333,
              "#9c179e"
             ],
             [
              0.4444444444444444,
              "#bd3786"
             ],
             [
              0.5555555555555556,
              "#d8576b"
             ],
             [
              0.6666666666666666,
              "#ed7953"
             ],
             [
              0.7777777777777778,
              "#fb9f3a"
             ],
             [
              0.8888888888888888,
              "#fdca26"
             ],
             [
              1,
              "#f0f921"
             ]
            ],
            "type": "heatmap"
           }
          ],
          "heatmapgl": [
           {
            "colorbar": {
             "outlinewidth": 0,
             "ticks": ""
            },
            "colorscale": [
             [
              0,
              "#0d0887"
             ],
             [
              0.1111111111111111,
              "#46039f"
             ],
             [
              0.2222222222222222,
              "#7201a8"
             ],
             [
              0.3333333333333333,
              "#9c179e"
             ],
             [
              0.4444444444444444,
              "#bd3786"
             ],
             [
              0.5555555555555556,
              "#d8576b"
             ],
             [
              0.6666666666666666,
              "#ed7953"
             ],
             [
              0.7777777777777778,
              "#fb9f3a"
             ],
             [
              0.8888888888888888,
              "#fdca26"
             ],
             [
              1,
              "#f0f921"
             ]
            ],
            "type": "heatmapgl"
           }
          ],
          "histogram": [
           {
            "marker": {
             "pattern": {
              "fillmode": "overlay",
              "size": 10,
              "solidity": 0.2
             }
            },
            "type": "histogram"
           }
          ],
          "histogram2d": [
           {
            "colorbar": {
             "outlinewidth": 0,
             "ticks": ""
            },
            "colorscale": [
             [
              0,
              "#0d0887"
             ],
             [
              0.1111111111111111,
              "#46039f"
             ],
             [
              0.2222222222222222,
              "#7201a8"
             ],
             [
              0.3333333333333333,
              "#9c179e"
             ],
             [
              0.4444444444444444,
              "#bd3786"
             ],
             [
              0.5555555555555556,
              "#d8576b"
             ],
             [
              0.6666666666666666,
              "#ed7953"
             ],
             [
              0.7777777777777778,
              "#fb9f3a"
             ],
             [
              0.8888888888888888,
              "#fdca26"
             ],
             [
              1,
              "#f0f921"
             ]
            ],
            "type": "histogram2d"
           }
          ],
          "histogram2dcontour": [
           {
            "colorbar": {
             "outlinewidth": 0,
             "ticks": ""
            },
            "colorscale": [
             [
              0,
              "#0d0887"
             ],
             [
              0.1111111111111111,
              "#46039f"
             ],
             [
              0.2222222222222222,
              "#7201a8"
             ],
             [
              0.3333333333333333,
              "#9c179e"
             ],
             [
              0.4444444444444444,
              "#bd3786"
             ],
             [
              0.5555555555555556,
              "#d8576b"
             ],
             [
              0.6666666666666666,
              "#ed7953"
             ],
             [
              0.7777777777777778,
              "#fb9f3a"
             ],
             [
              0.8888888888888888,
              "#fdca26"
             ],
             [
              1,
              "#f0f921"
             ]
            ],
            "type": "histogram2dcontour"
           }
          ],
          "mesh3d": [
           {
            "colorbar": {
             "outlinewidth": 0,
             "ticks": ""
            },
            "type": "mesh3d"
           }
          ],
          "parcoords": [
           {
            "line": {
             "colorbar": {
              "outlinewidth": 0,
              "ticks": ""
             }
            },
            "type": "parcoords"
           }
          ],
          "pie": [
           {
            "automargin": true,
            "type": "pie"
           }
          ],
          "scatter": [
           {
            "fillpattern": {
             "fillmode": "overlay",
             "size": 10,
             "solidity": 0.2
            },
            "type": "scatter"
           }
          ],
          "scatter3d": [
           {
            "line": {
             "colorbar": {
              "outlinewidth": 0,
              "ticks": ""
             }
            },
            "marker": {
             "colorbar": {
              "outlinewidth": 0,
              "ticks": ""
             }
            },
            "type": "scatter3d"
           }
          ],
          "scattercarpet": [
           {
            "marker": {
             "colorbar": {
              "outlinewidth": 0,
              "ticks": ""
             }
            },
            "type": "scattercarpet"
           }
          ],
          "scattergeo": [
           {
            "marker": {
             "colorbar": {
              "outlinewidth": 0,
              "ticks": ""
             }
            },
            "type": "scattergeo"
           }
          ],
          "scattergl": [
           {
            "marker": {
             "colorbar": {
              "outlinewidth": 0,
              "ticks": ""
             }
            },
            "type": "scattergl"
           }
          ],
          "scattermapbox": [
           {
            "marker": {
             "colorbar": {
              "outlinewidth": 0,
              "ticks": ""
             }
            },
            "type": "scattermapbox"
           }
          ],
          "scatterpolar": [
           {
            "marker": {
             "colorbar": {
              "outlinewidth": 0,
              "ticks": ""
             }
            },
            "type": "scatterpolar"
           }
          ],
          "scatterpolargl": [
           {
            "marker": {
             "colorbar": {
              "outlinewidth": 0,
              "ticks": ""
             }
            },
            "type": "scatterpolargl"
           }
          ],
          "scatterternary": [
           {
            "marker": {
             "colorbar": {
              "outlinewidth": 0,
              "ticks": ""
             }
            },
            "type": "scatterternary"
           }
          ],
          "surface": [
           {
            "colorbar": {
             "outlinewidth": 0,
             "ticks": ""
            },
            "colorscale": [
             [
              0,
              "#0d0887"
             ],
             [
              0.1111111111111111,
              "#46039f"
             ],
             [
              0.2222222222222222,
              "#7201a8"
             ],
             [
              0.3333333333333333,
              "#9c179e"
             ],
             [
              0.4444444444444444,
              "#bd3786"
             ],
             [
              0.5555555555555556,
              "#d8576b"
             ],
             [
              0.6666666666666666,
              "#ed7953"
             ],
             [
              0.7777777777777778,
              "#fb9f3a"
             ],
             [
              0.8888888888888888,
              "#fdca26"
             ],
             [
              1,
              "#f0f921"
             ]
            ],
            "type": "surface"
           }
          ],
          "table": [
           {
            "cells": {
             "fill": {
              "color": "#EBF0F8"
             },
             "line": {
              "color": "white"
             }
            },
            "header": {
             "fill": {
              "color": "#C8D4E3"
             },
             "line": {
              "color": "white"
             }
            },
            "type": "table"
           }
          ]
         },
         "layout": {
          "annotationdefaults": {
           "arrowcolor": "#2a3f5f",
           "arrowhead": 0,
           "arrowwidth": 1
          },
          "autotypenumbers": "strict",
          "coloraxis": {
           "colorbar": {
            "outlinewidth": 0,
            "ticks": ""
           }
          },
          "colorscale": {
           "diverging": [
            [
             0,
             "#8e0152"
            ],
            [
             0.1,
             "#c51b7d"
            ],
            [
             0.2,
             "#de77ae"
            ],
            [
             0.3,
             "#f1b6da"
            ],
            [
             0.4,
             "#fde0ef"
            ],
            [
             0.5,
             "#f7f7f7"
            ],
            [
             0.6,
             "#e6f5d0"
            ],
            [
             0.7,
             "#b8e186"
            ],
            [
             0.8,
             "#7fbc41"
            ],
            [
             0.9,
             "#4d9221"
            ],
            [
             1,
             "#276419"
            ]
           ],
           "sequential": [
            [
             0,
             "#0d0887"
            ],
            [
             0.1111111111111111,
             "#46039f"
            ],
            [
             0.2222222222222222,
             "#7201a8"
            ],
            [
             0.3333333333333333,
             "#9c179e"
            ],
            [
             0.4444444444444444,
             "#bd3786"
            ],
            [
             0.5555555555555556,
             "#d8576b"
            ],
            [
             0.6666666666666666,
             "#ed7953"
            ],
            [
             0.7777777777777778,
             "#fb9f3a"
            ],
            [
             0.8888888888888888,
             "#fdca26"
            ],
            [
             1,
             "#f0f921"
            ]
           ],
           "sequentialminus": [
            [
             0,
             "#0d0887"
            ],
            [
             0.1111111111111111,
             "#46039f"
            ],
            [
             0.2222222222222222,
             "#7201a8"
            ],
            [
             0.3333333333333333,
             "#9c179e"
            ],
            [
             0.4444444444444444,
             "#bd3786"
            ],
            [
             0.5555555555555556,
             "#d8576b"
            ],
            [
             0.6666666666666666,
             "#ed7953"
            ],
            [
             0.7777777777777778,
             "#fb9f3a"
            ],
            [
             0.8888888888888888,
             "#fdca26"
            ],
            [
             1,
             "#f0f921"
            ]
           ]
          },
          "colorway": [
           "#636efa",
           "#EF553B",
           "#00cc96",
           "#ab63fa",
           "#FFA15A",
           "#19d3f3",
           "#FF6692",
           "#B6E880",
           "#FF97FF",
           "#FECB52"
          ],
          "font": {
           "color": "#2a3f5f"
          },
          "geo": {
           "bgcolor": "white",
           "lakecolor": "white",
           "landcolor": "#E5ECF6",
           "showlakes": true,
           "showland": true,
           "subunitcolor": "white"
          },
          "hoverlabel": {
           "align": "left"
          },
          "hovermode": "closest",
          "mapbox": {
           "style": "light"
          },
          "paper_bgcolor": "white",
          "plot_bgcolor": "#E5ECF6",
          "polar": {
           "angularaxis": {
            "gridcolor": "white",
            "linecolor": "white",
            "ticks": ""
           },
           "bgcolor": "#E5ECF6",
           "radialaxis": {
            "gridcolor": "white",
            "linecolor": "white",
            "ticks": ""
           }
          },
          "scene": {
           "xaxis": {
            "backgroundcolor": "#E5ECF6",
            "gridcolor": "white",
            "gridwidth": 2,
            "linecolor": "white",
            "showbackground": true,
            "ticks": "",
            "zerolinecolor": "white"
           },
           "yaxis": {
            "backgroundcolor": "#E5ECF6",
            "gridcolor": "white",
            "gridwidth": 2,
            "linecolor": "white",
            "showbackground": true,
            "ticks": "",
            "zerolinecolor": "white"
           },
           "zaxis": {
            "backgroundcolor": "#E5ECF6",
            "gridcolor": "white",
            "gridwidth": 2,
            "linecolor": "white",
            "showbackground": true,
            "ticks": "",
            "zerolinecolor": "white"
           }
          },
          "shapedefaults": {
           "line": {
            "color": "#2a3f5f"
           }
          },
          "ternary": {
           "aaxis": {
            "gridcolor": "white",
            "linecolor": "white",
            "ticks": ""
           },
           "baxis": {
            "gridcolor": "white",
            "linecolor": "white",
            "ticks": ""
           },
           "bgcolor": "#E5ECF6",
           "caxis": {
            "gridcolor": "white",
            "linecolor": "white",
            "ticks": ""
           }
          },
          "title": {
           "x": 0.05
          },
          "xaxis": {
           "automargin": true,
           "gridcolor": "white",
           "linecolor": "white",
           "ticks": "",
           "title": {
            "standoff": 15
           },
           "zerolinecolor": "white",
           "zerolinewidth": 2
          },
          "yaxis": {
           "automargin": true,
           "gridcolor": "white",
           "linecolor": "white",
           "ticks": "",
           "title": {
            "standoff": 15
           },
           "zerolinecolor": "white",
           "zerolinewidth": 2
          }
         }
        }
       }
      },
      "image/png": "[encoded data removed]",
      "text/html": [
       "<div>                            <div id=\"420a7580-5258-45f4-a381-4d08100507dd\" class=\"plotly-graph-div\" style=\"height:525px; width:100%;\"></div>            <script type=\"text/javascript\">                require([\"plotly\"], function(Plotly) {                    window.PLOTLYENV=window.PLOTLYENV || {};                                    if (document.getElementById(\"420a7580-5258-45f4-a381-4d08100507dd\")) {                    Plotly.newPlot(                        \"420a7580-5258-45f4-a381-4d08100507dd\",                        [{\"hovertemplate\":\"feature1=%{x}\\u003cbr\\u003efeature2=%{y}\\u003cbr\\u003etarget=%{z}\\u003cextra\\u003e\\u003c\\u002fextra\\u003e\",\"legendgroup\":\"\",\"marker\":{\"color\":\"#636efa\",\"symbol\":\"circle\"},\"mode\":\"markers\",\"name\":\"\",\"scene\":\"scene\",\"showlegend\":false,\"x\":[0.2781407394040055,-0.5635840265058059,-1.267759040780249,-0.9759349232251411,0.49086775055969983,0.06936880933023985,0.0716575573014017,1.2717496542525804,0.9437263908133028,0.6026745868598421,0.25040058141317084,-0.5836194861297086,0.31422336401526024,-0.7196904599344158,1.1529168923056654,1.0373976766479336,-1.064581470974407,-0.2322808554749028,-1.200351899826103,0.09878295180606492,0.6346454815486634,-0.5871640860721099,0.8157017280970176,1.7384583320320939,0.8400946292230073,2.631073189903033,0.13125786801108755,-0.9936054189904594,0.859124205931587,-0.19298999678877485,-0.7139532186943869,0.34093874994310963,0.10522135114839445,-0.6299579644877495,0.12320957784567053,0.17205506787526736,-2.46173654657784,-1.7709105362765465,-2.2210261460912264,0.43303351660739736,1.2053651224438409,0.6787999258227848,0.35706002282781024,1.0340564892519646,-0.5668071304492077,-0.19508361653820902,0.7391508371157174,0.45154590350011603,-0.40642751088954165,0.6973351327258832,1.5426380625725105,0.18693180518139524,0.7050074531504269,-0.9207622846928091,-0.7823808850091747,-1.3670774476333194,-0.81285418649095,-0.6310724702832534,0.5839660613042248,-0.6869711018925744,0.6208717085862308,0.2519748804676733,-2.055360341309257,-0.34426197684821885,0.2955341826963646,-1.1084147616331887,0.010358695718015285,0.17559949131181762,-1.5437093779871995,0.13118987990318154,-1.5475091027060384,-1.103729832356129,1.190720152257798,0.55371055168797,0.48498479790067184,-1.324747063915812,1.1372282891511651,-0.3613532725794906,0.1697263351874196,0.8251810858667213,0.3462474817183834,-0.6050493901418441,0.05378768497479427,0.029504832648421776,0.4824484417783393,0.36081423138573576,-1.6222867602961688,0.7173275608210018,0.5983674304730029,-0.09713326420049795,1.8964403875424942,-0.04522575991917249,1.6438882363903342,1.597016755261902,2.240888111619055,0.566570528428044,1.051621590382758,-0.9286176271470742,1.9899057647594878,1.6042964623428213],\"y\":[-0.3972053688269867,0.27107934282408525,2.5189157104537685,0.08161816901577769,0.7536859330713931,0.845377608962402,-1.9371627307852093,-1.046315650267398,-0.3623727787449826,-0.14499465015495774,0.2534876072471677,-0.03906208889218445,-0.8393276002336755,-1.1934352392472378,-2.079765334895109,0.6419492645512683,-1.4381767880301617,0.12962886446302085,1.260621731976962,-0.7694829234765636,1.4672326933810342,2.291714617102625,-1.0872695305353122,-1.3887158847947025,0.27698724714194806,-1.975574354835797,-0.7399111042279612,-0.41765309959424124,-1.4075316854115327,1.118913038512196,0.9627754574900094,-0.9884551364276166,-1.3965880127659873,0.31570481230941777,-0.6423283328485822,-0.2790389613805724,0.22834073759537288,-0.14516229179830897,-1.4450894479114496,0.4661728799708747,0.12364824758880896,1.920120852286527,0.20634157613129037,-0.5361635287315818,1.559554197427379,2.0294489627685683,-0.320884740811216,-1.415544144728935,0.3122370800816152,0.14449402222127317,-0.4970008854031726,-1.3749969677678424,2.860928723716111,-0.7192077012578566,-0.25788427776713296,0.1530653294942147,-0.46196154698323716,-0.0953972886972723,-1.8829391300857474,0.9414498508027473,0.5928006440898781,-0.831561651294708,0.4371930177927706,0.38174834312529077,1.8422121688603699,2.21800589680416,0.017514843818767025,0.44284119808587247,-0.42998276904946675,-0.23990060929827306,-1.6178686057690115,0.7927830108771473,0.4485887896601841,-0.9301539617676376,1.0556926438501335,1.4391703267923248,1.142968605409278,0.06333981066318325,-0.10473051206386975,-1.745973986375225,0.16787635951973057,-1.4314303803042385,0.28395804455548984,-0.6969264082826567,1.324564400479832,1.390322016620873,0.08220271079645608,-0.24254548775445148,-0.40370616976075663,-1.3409518667960434,0.66155988877515,1.2774022000795016,0.7787279550246198,0.16566145048693878,0.26816985648052694,-2.6438984696612517,0.061661043627488366,0.9226231037978103,0.7743470170108205,2.6016233219142113],\"z\":[82.49612567627555,-21.37781860102968,54.03258996476709,-101.94121923815948,93.86491160070331,108.34237592816422,-108.84575417660565,17.801359219658234,91.38751405332086,4.805249810401243,0.32934203732391865,-33.990972588135534,-38.41930444048961,-151.67697628990697,-17.20080233162335,72.39326575329328,-146.39424767885095,-24.426618356901805,-35.35291623973912,-44.17904244637171,187.11633953321015,73.83499576442705,6.287494316207768,52.31120247613612,107.29856692091165,154.4280773806399,23.249073571862375,-200.94329949282758,-46.88663000194538,2.4755466389290532,25.51907775893197,54.64819134196772,-105.72036971365209,15.744456671963505,52.78192851929625,38.6728121412513,-132.6814892206617,-151.43833540526936,-324.94902949082575,60.380142966885174,130.3846515542328,197.84799716408574,-20.598862509941547,148.61710801613023,72.95658732219388,94.47525326616997,-16.11384271550788,-55.39285243337019,-29.29796760451459,103.78840432916635,57.74867895912095,-145.95818679026655,329.25141260544615,-143.10442602207743,-87.91195395356866,-68.9039474415704,-111.67445102766,-99.52523273972454,-55.111371885967046,2.8769583278179756,57.68083170705422,-57.741511236847266,-242.68441890833887,-77.13903160119978,165.10697462657686,82.78129917118312,120.17195239558494,-10.765954107966216,-210.52198299642606,12.619171866687793,-209.7145440727808,-55.35549369790021,185.7199879155007,-35.64636463255316,86.34294560549904,-19.75605642268006,237.30971816232656,56.32908615428403,-44.07917426065612,9.3833149801726,33.18735159178068,-189.9405020531163,75.28874379639501,-27.034819017055124,178.30733810600802,176.54524047598463,-191.6654985226225,56.76152568185435,22.879885656068222,-34.64535383231188,249.51910557711454,108.96198544234439,231.16682343578626,123.29383325368839,207.81438172392825,-123.61485639353383,105.72486789335315,5.358062581117974,284.0447971813895,421.4135039054634],\"type\":\"scatter3d\"},{\"x\":[-5.0,-3.888888888888889,-2.7777777777777777,-1.6666666666666665,-0.5555555555555554,0.5555555555555554,1.666666666666667,2.7777777777777786,3.8888888888888893,5.0],\"y\":[-5.0,-3.888888888888889,-2.7777777777777777,-1.6666666666666665,-0.5555555555555554,0.5555555555555554,1.666666666666667,2.7777777777777786,3.8888888888888893,5.0],\"z\":[[-851.6703075369352,-741.94294908345,-632.2155906299649,-522.4882321764799,-412.76087372299463,-303.03351526950956,-193.3061568160244,-83.57879836253926,26.1485600909458,135.87591854443093],[-770.5637301476479,-660.8363716941628,-551.1090132406778,-441.38165478719253,-331.6542963337074,-221.92693788022234,-112.19957942673719,-2.4722209732520426,107.25513748023303,216.98249593371816],[-689.4571527583607,-579.7297943048757,-470.00243585139043,-360.27507739790536,-250.54771894442018,-140.82036049093514,-31.09300203745,78.63435641603516,188.36171486952023,298.0890733230054],[-608.3505753690736,-498.62321691558833,-388.8958584621032,-279.1685000086181,-169.44114155513296,-59.71378310164791,50.01357535183724,159.7409338053224,269.4682922588075,379.1956507122926],[-527.2439979797863,-417.5166395263011,-307.789281072816,-198.06192261933086,-88.33456416584576,21.392794287639312,131.12015274112446,240.84751119460964,350.5748696480947,460.30222810157983],[-446.13742059049906,-336.41006213701394,-226.6827036835288,-116.95534523004369,-7.227986776558559,102.4993716769265,212.22673013041168,321.9540885838968,431.6814470373819,541.4088054908669],[-365.0308432012118,-255.30348474772666,-145.57612629424153,-35.848767840756416,73.87859061272871,183.60594906621378,293.33330751969896,403.0606659731841,512.7880244266692,622.5153828801542],[-283.9242658119245,-174.1969073584394,-64.46954890495428,45.25780954853084,154.98516800201597,264.71252645550106,374.4398849089862,484.1672433624713,593.8946018159563,703.6219602694415],[-202.81768842263733,-93.09032996915221,16.63702848433291,126.36438693781804,236.09174539130316,345.81910384478823,455.5464622982734,565.2738207517584,675.0011792052435,784.7285376587287],[-121.71111103335016,-11.983752579865047,97.74360587362008,207.4709643271052,317.19832278059033,426.9256812340754,536.6530396875605,646.3803981410456,756.1077565945307,865.8351150480158]],\"type\":\"surface\"}],                        {\"template\":{\"data\":{\"histogram2dcontour\":[{\"type\":\"histogram2dcontour\",\"colorbar\":{\"outlinewidth\":0,\"ticks\":\"\"},\"colorscale\":[[0.0,\"#0d0887\"],[0.1111111111111111,\"#46039f\"],[0.2222222222222222,\"#7201a8\"],[0.3333333333333333,\"#9c179e\"],[0.4444444444444444,\"#bd3786\"],[0.5555555555555556,\"#d8576b\"],[0.6666666666666666,\"#ed7953\"],[0.7777777777777778,\"#fb9f3a\"],[0.8888888888888888,\"#fdca26\"],[1.0,\"#f0f921\"]]}],\"choropleth\":[{\"type\":\"choropleth\",\"colorbar\":{\"outlinewidth\":0,\"ticks\":\"\"}}],\"histogram2d\":[{\"type\":\"histogram2d\",\"colorbar\":{\"outlinewidth\":0,\"ticks\":\"\"},\"colorscale\":[[0.0,\"#0d0887\"],[0.1111111111111111,\"#46039f\"],[0.2222222222222222,\"#7201a8\"],[0.3333333333333333,\"#9c179e\"],[0.4444444444444444,\"#bd3786\"],[0.5555555555555556,\"#d8576b\"],[0.6666666666666666,\"#ed7953\"],[0.7777777777777778,\"#fb9f3a\"],[0.8888888888888888,\"#fdca26\"],[1.0,\"#f0f921\"]]}],\"heatmap\":[{\"type\":\"heatmap\",\"colorbar\":{\"outlinewidth\":0,\"ticks\":\"\"},\"colorscale\":[[0.0,\"#0d0887\"],[0.1111111111111111,\"#46039f\"],[0.2222222222222222,\"#7201a8\"],[0.3333333333333333,\"#9c179e\"],[0.4444444444444444,\"#bd3786\"],[0.5555555555555556,\"#d8576b\"],[0.6666666666666666,\"#ed7953\"],[0.7777777777777778,\"#fb9f3a\"],[0.8888888888888888,\"#fdca26\"],[1.0,\"#f0f921\"]]}],\"heatmapgl\":[{\"type\":\"heatmapgl\",\"colorbar\":{\"outlinewidth\":0,\"ticks\":\"\"},\"colorscale\":[[0.0,\"#0d0887\"],[0.1111111111111111,\"#46039f\"],[0.2222222222222222,\"#7201a8\"],[0.3333333333333333,\"#9c179e\"],[0.4444444444444444,\"#bd3786\"],[0.5555555555555556,\"#d8576b\"],[0.6666666666666666,\"#ed7953\"],[0.7777777777777778,\"#fb9f3a\"],[0.8888888888888888,\"#fdca26\"],[1.0,\"#f0f921\"]]}],\"contourcarpet\":[{\"type\":\"contourcarpet\",\"colorbar\":{\"outlinewidth\":0,\"ticks\":\"\"}}],\"contour\":[{\"type\":\"contour\",\"colorbar\":{\"outlinewidth\":0,\"ticks\":\"\"},\"colorscale\":[[0.0,\"#0d0887\"],[0.1111111111111111,\"#46039f\"],[0.2222222222222222,\"#7201a8\"],[0.3333333333333333,\"#9c179e\"],[0.4444444444444444,\"#bd3786\"],[0.5555555555555556,\"#d8576b\"],[0.6666666666666666,\"#ed7953\"],[0.7777777777777778,\"#fb9f3a\"],[0.8888888888888888,\"#fdca26\"],[1.0,\"#f0f921\"]]}],\"surface\":[{\"type\":\"surface\",\"colorbar\":{\"outlinewidth\":0,\"ticks\":\"\"},\"colorscale\":[[0.0,\"#0d0887\"],[0.1111111111111111,\"#46039f\"],[0.2222222222222222,\"#7201a8\"],[0.3333333333333333,\"#9c179e\"],[0.4444444444444444,\"#bd3786\"],[0.5555555555555556,\"#d8576b\"],[0.6666666666666666,\"#ed7953\"],[0.7777777777777778,\"#fb9f3a\"],[0.8888888888888888,\"#fdca26\"],[1.0,\"#f0f921\"]]}],\"mesh3d\":[{\"type\":\"mesh3d\",\"colorbar\":{\"outlinewidth\":0,\"ticks\":\"\"}}],\"scatter\":[{\"fillpattern\":{\"fillmode\":\"overlay\",\"size\":10,\"solidity\":0.2},\"type\":\"scatter\"}],\"parcoords\":[{\"type\":\"parcoords\",\"line\":{\"colorbar\":{\"outlinewidth\":0,\"ticks\":\"\"}}}],\"scatterpolargl\":[{\"type\":\"scatterpolargl\",\"marker\":{\"colorbar\":{\"outlinewidth\":0,\"ticks\":\"\"}}}],\"bar\":[{\"error_x\":{\"color\":\"#2a3f5f\"},\"error_y\":{\"color\":\"#2a3f5f\"},\"marker\":{\"line\":{\"color\":\"#E5ECF6\",\"width\":0.5},\"pattern\":{\"fillmode\":\"overlay\",\"size\":10,\"solidity\":0.2}},\"type\":\"bar\"}],\"scattergeo\":[{\"type\":\"scattergeo\",\"marker\":{\"colorbar\":{\"outlinewidth\":0,\"ticks\":\"\"}}}],\"scatterpolar\":[{\"type\":\"scatterpolar\",\"marker\":{\"colorbar\":{\"outlinewidth\":0,\"ticks\":\"\"}}}],\"histogram\":[{\"marker\":{\"pattern\":{\"fillmode\":\"overlay\",\"size\":10,\"solidity\":0.2}},\"type\":\"histogram\"}],\"scattergl\":[{\"type\":\"scattergl\",\"marker\":{\"colorbar\":{\"outlinewidth\":0,\"ticks\":\"\"}}}],\"scatter3d\":[{\"type\":\"scatter3d\",\"line\":{\"colorbar\":{\"outlinewidth\":0,\"ticks\":\"\"}},\"marker\":{\"colorbar\":{\"outlinewidth\":0,\"ticks\":\"\"}}}],\"scattermapbox\":[{\"type\":\"scattermapbox\",\"marker\":{\"colorbar\":{\"outlinewidth\":0,\"ticks\":\"\"}}}],\"scatterternary\":[{\"type\":\"scatterternary\",\"marker\":{\"colorbar\":{\"outlinewidth\":0,\"ticks\":\"\"}}}],\"scattercarpet\":[{\"type\":\"scattercarpet\",\"marker\":{\"colorbar\":{\"outlinewidth\":0,\"ticks\":\"\"}}}],\"carpet\":[{\"aaxis\":{\"endlinecolor\":\"#2a3f5f\",\"gridcolor\":\"white\",\"linecolor\":\"white\",\"minorgridcolor\":\"white\",\"startlinecolor\":\"#2a3f5f\"},\"baxis\":{\"endlinecolor\":\"#2a3f5f\",\"gridcolor\":\"white\",\"linecolor\":\"white\",\"minorgridcolor\":\"white\",\"startlinecolor\":\"#2a3f5f\"},\"type\":\"carpet\"}],\"table\":[{\"cells\":{\"fill\":{\"color\":\"#EBF0F8\"},\"line\":{\"color\":\"white\"}},\"header\":{\"fill\":{\"color\":\"#C8D4E3\"},\"line\":{\"color\":\"white\"}},\"type\":\"table\"}],\"barpolar\":[{\"marker\":{\"line\":{\"color\":\"#E5ECF6\",\"width\":0.5},\"pattern\":{\"fillmode\":\"overlay\",\"size\":10,\"solidity\":0.2}},\"type\":\"barpolar\"}],\"pie\":[{\"automargin\":true,\"type\":\"pie\"}]},\"layout\":{\"autotypenumbers\":\"strict\",\"colorway\":[\"#636efa\",\"#EF553B\",\"#00cc96\",\"#ab63fa\",\"#FFA15A\",\"#19d3f3\",\"#FF6692\",\"#B6E880\",\"#FF97FF\",\"#FECB52\"],\"font\":{\"color\":\"#2a3f5f\"},\"hovermode\":\"closest\",\"hoverlabel\":{\"align\":\"left\"},\"paper_bgcolor\":\"white\",\"plot_bgcolor\":\"#E5ECF6\",\"polar\":{\"bgcolor\":\"#E5ECF6\",\"angularaxis\":{\"gridcolor\":\"white\",\"linecolor\":\"white\",\"ticks\":\"\"},\"radialaxis\":{\"gridcolor\":\"white\",\"linecolor\":\"white\",\"ticks\":\"\"}},\"ternary\":{\"bgcolor\":\"#E5ECF6\",\"aaxis\":{\"gridcolor\":\"white\",\"linecolor\":\"white\",\"ticks\":\"\"},\"baxis\":{\"gridcolor\":\"white\",\"linecolor\":\"white\",\"ticks\":\"\"},\"caxis\":{\"gridcolor\":\"white\",\"linecolor\":\"white\",\"ticks\":\"\"}},\"coloraxis\":{\"colorbar\":{\"outlinewidth\":0,\"ticks\":\"\"}},\"colorscale\":{\"sequential\":[[0.0,\"#0d0887\"],[0.1111111111111111,\"#46039f\"],[0.2222222222222222,\"#7201a8\"],[0.3333333333333333,\"#9c179e\"],[0.4444444444444444,\"#bd3786\"],[0.5555555555555556,\"#d8576b\"],[0.6666666666666666,\"#ed7953\"],[0.7777777777777778,\"#fb9f3a\"],[0.8888888888888888,\"#fdca26\"],[1.0,\"#f0f921\"]],\"sequentialminus\":[[0.0,\"#0d0887\"],[0.1111111111111111,\"#46039f\"],[0.2222222222222222,\"#7201a8\"],[0.3333333333333333,\"#9c179e\"],[0.4444444444444444,\"#bd3786\"],[0.5555555555555556,\"#d8576b\"],[0.6666666666666666,\"#ed7953\"],[0.7777777777777778,\"#fb9f3a\"],[0.8888888888888888,\"#fdca26\"],[1.0,\"#f0f921\"]],\"diverging\":[[0,\"#8e0152\"],[0.1,\"#c51b7d\"],[0.2,\"#de77ae\"],[0.3,\"#f1b6da\"],[0.4,\"#fde0ef\"],[0.5,\"#f7f7f7\"],[0.6,\"#e6f5d0\"],[0.7,\"#b8e186\"],[0.8,\"#7fbc41\"],[0.9,\"#4d9221\"],[1,\"#276419\"]]},\"xaxis\":{\"gridcolor\":\"white\",\"linecolor\":\"white\",\"ticks\":\"\",\"title\":{\"standoff\":15},\"zerolinecolor\":\"white\",\"automargin\":true,\"zerolinewidth\":2},\"yaxis\":{\"gridcolor\":\"white\",\"linecolor\":\"white\",\"ticks\":\"\",\"title\":{\"standoff\":15},\"zerolinecolor\":\"white\",\"automargin\":true,\"zerolinewidth\":2},\"scene\":{\"xaxis\":{\"backgroundcolor\":\"#E5ECF6\",\"gridcolor\":\"white\",\"linecolor\":\"white\",\"showbackground\":true,\"ticks\":\"\",\"zerolinecolor\":\"white\",\"gridwidth\":2},\"yaxis\":{\"backgroundcolor\":\"#E5ECF6\",\"gridcolor\":\"white\",\"linecolor\":\"white\",\"showbackground\":true,\"ticks\":\"\",\"zerolinecolor\":\"white\",\"gridwidth\":2},\"zaxis\":{\"backgroundcolor\":\"#E5ECF6\",\"gridcolor\":\"white\",\"linecolor\":\"white\",\"showbackground\":true,\"ticks\":\"\",\"zerolinecolor\":\"white\",\"gridwidth\":2}},\"shapedefaults\":{\"line\":{\"color\":\"#2a3f5f\"}},\"annotationdefaults\":{\"arrowcolor\":\"#2a3f5f\",\"arrowhead\":0,\"arrowwidth\":1},\"geo\":{\"bgcolor\":\"white\",\"landcolor\":\"#E5ECF6\",\"subunitcolor\":\"white\",\"showland\":true,\"showlakes\":true,\"lakecolor\":\"white\"},\"title\":{\"x\":0.05},\"mapbox\":{\"style\":\"light\"}}},\"scene\":{\"domain\":{\"x\":[0.0,1.0],\"y\":[0.0,1.0]},\"xaxis\":{\"title\":{\"text\":\"feature1\"}},\"yaxis\":{\"title\":{\"text\":\"feature2\"}},\"zaxis\":{\"title\":{\"text\":\"target\"}}},\"legend\":{\"tracegroupgap\":0},\"margin\":{\"t\":60}},                        {\"responsive\": true}                    ).then(function(){\n",
       "                            \n",
       "var gd = document.getElementById('420a7580-5258-45f4-a381-4d08100507dd');\n",
       "var x = new MutationObserver(function (mutations, observer) {{\n",
       "        var display = window.getComputedStyle(gd).display;\n",
       "        if (!display || display === 'none') {{\n",
       "            console.log([gd, 'removed!']);\n",
       "            Plotly.purge(gd);\n",
       "            observer.disconnect();\n",
       "        }}\n",
       "}});\n",
       "\n",
       "// Listen for the removal of the full notebook cells\n",
       "var notebookContainer = gd.closest('#notebook-container');\n",
       "if (notebookContainer) {{\n",
       "    x.observe(notebookContainer, {childList: true});\n",
       "}}\n",
       "\n",
       "// Listen for the clearing of the current output cell\n",
       "var outputEl = gd.closest('.output');\n",
       "if (outputEl) {{\n",
       "    x.observe(outputEl, {childList: true});\n",
       "}}\n",
       "\n",
       "                        })                };                });            </script>        </div>"
      ]
     },
     "metadata": {},
     "output_type": "display_data"
    }
   ],
   "source": [
    "fig = px.scatter_3d(df, x='feature1', y='feature2', z='target')\n",
    "\n",
    "fig.add_trace(go.Surface(x = x, y = y, z =z ))\n",
    "\n",
    "fig.show()"
   ]
  },
  {
   "cell_type": "code",
   "execution_count": 62,
   "id": "b8b4d22a-def3-4092-a3ec-fc7c1e6c920c",
   "metadata": {},
   "outputs": [
    {
     "data": {
      "text/plain": [
       "array([98.75462261, 72.99591965])"
      ]
     },
     "execution_count": 62,
     "metadata": {},
     "output_type": "execute_result"
    }
   ],
   "source": [
    "\n",
    "lr.coef_"
   ]
  },
  {
   "cell_type": "code",
   "execution_count": 63,
   "id": "6975aa0c-46d2-4ef7-914f-60ddaf2284e4",
   "metadata": {},
   "outputs": [
    {
     "data": {
      "text/plain": [
       "7.082403755540376"
      ]
     },
     "execution_count": 63,
     "metadata": {},
     "output_type": "execute_result"
    }
   ],
   "source": [
    "\n",
    "lr.intercept_"
   ]
  },
  {
   "cell_type": "code",
   "execution_count": null,
   "id": "a37a539c-bf6b-4e61-96ac-8aa64a6fc11d",
   "metadata": {},
   "outputs": [],
   "source": []
  }
 ],
 "metadata": {
  "kernelspec": {
   "display_name": "Python 3 (ipykernel)",
   "language": "python",
   "name": "python3"
  },
  "language_info": {
   "codemirror_mode": {
    "name": "ipython",
    "version": 3
   },
   "file_extension": ".py",
   "mimetype": "text/x-python",
   "name": "python",
   "nbconvert_exporter": "python",
   "pygments_lexer": "ipython3",
   "version": "3.11.8"
  }
 },
 "nbformat": 4,
 "nbformat_minor": 5
}
